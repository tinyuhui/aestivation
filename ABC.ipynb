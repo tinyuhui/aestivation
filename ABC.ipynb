{
 "cells": [
  {
   "cell_type": "markdown",
   "id": "764cb4bf",
   "metadata": {},
   "source": [
    "### Estimating breeding and aestivating sizes for Lehmann et al. (2017) dataset\n",
    "#### Mwima, Hui, Kayondo, Burt (2024) in prep. \n",
    "#### email <tin-yu.hui11@imperial.ac.uk>\n",
    "\n",
    "#### 1. Load dataset, plot seasonality\n",
    "We had reformatted the original genotypic dataset from Lehmann et al. (2017), from which the *An. coluzzii* temporal samples from Thierola, Mali, are of our interest. We load the dataset, then plot the seasonalities of the samples. The original authors assumed DS is from May to December. "
   ]
  },
  {
   "cell_type": "code",
   "execution_count": 1,
   "id": "574ff5bd",
   "metadata": {},
   "outputs": [
    {
     "name": "stderr",
     "output_type": "stream",
     "text": [
      "Loading required package: compiler\n",
      "Loading required package: doParallel\n",
      "Loading required package: foreach\n",
      "Loading required package: iterators\n",
      "Loading required package: parallel\n",
      "Loading required package: inline\n"
     ]
    }
   ],
   "source": [
    "# LOAD PACKAGES\n",
    "require(compiler)\n",
    "require(doParallel)\n",
    "require(inline)"
   ]
  },
  {
   "cell_type": "code",
   "execution_count": 2,
   "id": "42ba01ed",
   "metadata": {},
   "outputs": [
    {
     "data": {
      "image/png": "[encoded data removed]",
      "text/plain": [
       "plot without title"
      ]
     },
     "metadata": {},
     "output_type": "display_data"
    }
   ],
   "source": [
    "# READ THE REFORMATTED LEHMANN csv \n",
    "dat<-read.csv('Lehmann_coded_tinyu.csv', header=T, stringsAsFactors=F)\n",
    "\n",
    "# THE 7 THIEROLA TEMPORAL SAMPLES IN CHRONOLOGICAL ORDER. ONLY 5 ARE USED HERE\n",
    "# Th=THIEROLA, 08=YEAR, Au=MONTH\n",
    "PoD<-c('Th08Au', 'Th09Ma', 'Th09Oc', 'Th10Ja', 'Th10Ap', 'Th10Ju', 'Th10Au')\n",
    "col<-c(1, 1, 1, NA, 1, 1, NA)\n",
    "\n",
    "# CREATE A VECTOR TO SHOW THE RELATIVE TIME (IN GENERATIONS) AMONG THESE 7 TIME POINTS\n",
    "# Th08Au IS CONSIDERED AS THE 0th MONTH OF THE SAMPLE, SO THE NEXT SAMPLE IS IN 9 MONTHS' TIME. \n",
    "t<-c(0, 9, 14, 17, 20, 22, 24)\n",
    "\n",
    "# WORK OUT ALL ALLELE FREQ PER POPULATION\n",
    "# AND ALSO EFFECT SAMPLE SIZE PER LOCUS PER POPULATION\n",
    "# 7 ROWS, 738 COLUMNS\n",
    "all_allele_freq<-matrix(nr=length(PoD), nc=ncol(dat)-4)\n",
    "all_eff_s<-all_allele_freq\n",
    "for (i in 1:length(PoD))\n",
    "{\n",
    "    sample<-dat[dat$PoD==PoD[i], 5:ncol(dat)]\n",
    "    all_allele_freq[i,]<-apply(sample, 2, function(x) {mean(x, na.rm=T)/2})\n",
    "    all_eff_s[i,]<-apply(sample, 2, function(x) {sum(!is.na(x))})\n",
    "}\n",
    "\n",
    "# PLOT THE SEASONAILTIES, DEC TO MAY ARE DS\n",
    "plot(y=rep(1, length(t)), x=t+27, \n",
    "    xlab='sampling time points and seasonality', ylab='', \n",
    "    xlim=c(25, 56), pch=16, col=col, yaxt='n', xaxt='n')\n",
    "text(y=1+0.05*(-1)^(1:length(t[c(-4, -7)])), x=t[c(-4, -7)]+28, labels=PoD[c(-4,-7)])\n",
    "temp<-c(6.5, 12.5)\n",
    "temp<-c(temp, temp+12, temp+24, temp+36, temp+48, temp+60)\n",
    "abline(v=temp, col='grey', lty=2)\n",
    "text(y=rep(0.9, length(temp)), x=temp-3, label=rep(c('rainy', 'dry'), length(temp)/2), col='grey')\n",
    "text(y=rep(1.1, 4), x=seq(1, 61, 12), label=rep('June', 5), col='grey')\n",
    "rm(temp)"
   ]
  },
  {
   "cell_type": "markdown",
   "id": "81916582",
   "metadata": {},
   "source": [
    "#### 2. The first year: 2008-2009\n",
    "##### 2.1 The observed data\n",
    "Three temporal samples are involved (Th08Au, Th09Ma, Th09Oc) in the estimation of the breeding and aestivating sizes for the first year. \n",
    "\n",
    "First the allele frequencies from each temporal sample are extracted, and so are the effective sample sizes per locus (to account for missing genotypes). Then the pooled allele frequencies are calculated for minor allele frqeuency cut-off. Only loci with pooled maf>=0.05 are included in the estimation. Pairwise temporal F's are computed, via Fc (see SI), and are our summary statistics (SS) "
   ]
  },
  {
   "cell_type": "code",
   "execution_count": 14,
   "id": "5151ed8a",
   "metadata": {},
   "outputs": [
    {
     "data": {
      "text/html": [
       "555"
      ],
      "text/latex": [
       "555"
      ],
      "text/markdown": [
       "555"
      ],
      "text/plain": [
       "[1] 555"
      ]
     },
     "metadata": {},
     "output_type": "display_data"
    },
    {
     "data": {
      "text/html": [
       "<ol class=list-inline>\n",
       "\t<li>0.0714398900353469</li>\n",
       "\t<li>0.0668682972296933</li>\n",
       "\t<li>0.0289532348804173</li>\n",
       "</ol>\n"
      ],
      "text/latex": [
       "\\begin{enumerate*}\n",
       "\\item 0.0714398900353469\n",
       "\\item 0.0668682972296933\n",
       "\\item 0.0289532348804173\n",
       "\\end{enumerate*}\n"
      ],
      "text/markdown": [
       "1. 0.0714398900353469\n",
       "2. 0.0668682972296933\n",
       "3. 0.0289532348804173\n",
       "\n",
       "\n"
      ],
      "text/plain": [
       "[1] 0.07143989 0.06686830 0.02895323"
      ]
     },
     "metadata": {},
     "output_type": "display_data"
    }
   ],
   "source": [
    "# YEAR 1, Th08Au, Th09Ma, Th09Oc\n",
    "# EXTRACT THE THREE ALLELE FREQ\n",
    "p1<-all_allele_freq[1,]\n",
    "p2<-all_allele_freq[2,]\n",
    "p3<-all_allele_freq[3,]\n",
    "# THE THREE EFFECTIVE SAMPLE SIZE PER LOCUS\n",
    "eff_s1<-all_eff_s[1,]\n",
    "eff_s2<-all_eff_s[2,]\n",
    "eff_s3<-all_eff_s[3,]\n",
    "# POOLED ALLELE FREQ, WEIGHTED BY EFFECTIVE SAMPLE SIZES\n",
    "p<-(p1*eff_s1+p2*eff_s2+p3*eff_s3)/(eff_s1+eff_s2+eff_s3)\n",
    "# MAF CUTOFF ON  THE POOLED ALLELE FREQ\n",
    "temp<-(p>=0.05) & (p<=0.95)\n",
    "# NUMBER OF LOCI\n",
    "K<-sum(temp)\n",
    "K\n",
    "# SUBSET\n",
    "p1<-p1[temp]\n",
    "p2<-p2[temp]\n",
    "p3<-p3[temp]\n",
    "eff_s1<-eff_s1[temp]\n",
    "eff_s2<-eff_s2[temp]\n",
    "eff_s3<-eff_s3[temp]\n",
    "# THE F STATISTIC, Fc\n",
    "obs_F21<-mean((p1-p2)^2/((p1+p2)/2-p1*p2)-0.5/eff_s1-0.5/eff_s2, na.rm=T)\n",
    "obs_F32<-mean((p3-p2)^2/((p3+p2)/2-p3*p2)-0.5/eff_s3-0.5/eff_s2, na.rm=T)\n",
    "obs_F31<-mean((p3-p1)^2/((p3+p1)/2-p3*p1)-0.5/eff_s3-0.5/eff_s1, na.rm=T)\n",
    "c(obs_F21, obs_F32, obs_F31)"
   ]
  },
  {
   "cell_type": "markdown",
   "id": "30e3790d",
   "metadata": {},
   "source": [
    "The three temporal Fc's are displayed here from 540 loci. These are our real SS, observation. \n",
    "\n",
    "##### 2.2 ABC parameter estimation\n",
    "Then we run ABC to find the best sets of sizes that yield our observed SS. The priors and procedures are described in the publication. 2 million sets of priors are used, and the best 1000 are selected as posterior. \n",
    "\n",
    "Note that the stochastic nature of ABC means we will get a slightly different set of results every time, but the average should be very close to what we published in the main text. \n",
    "\n",
    "Some further technical details: We run the 2 million of ABC in parallel chuncks, which means we need to accept and return the best 1000 from each chunck, then choose the global best 1000 from within. The generations of random numbers are handled by the R parellel package. "
   ]
  },
  {
   "cell_type": "code",
   "execution_count": 4,
   "id": "1b01e2e8",
   "metadata": {},
   "outputs": [],
   "source": [
    "# THE SIMULATOR\n",
    "body<-\"\n",
    "\tGetRNGstate();\n",
    "\tdouble *h_rep_N=REAL(rep_N); double *h_denom_N=REAL(denom_N);\n",
    "\tint *h_aes=INTEGER(aes); double *h_aes_return=REAL(aes_return);\n",
    "\tint h_K=asInteger(K); double h_N_a=asReal(N_a);\n",
    "\tint t=LENGTH(rep_N);\n",
    "\t// THE ALLELE FREQ MATRIX FOR BREEDING\n",
    "\tSEXP p_rep=PROTECT(allocMatrix(REALSXP, h_K, t+1));\n",
    "\tdouble *h_p_rep=REAL(p_rep);\n",
    "\t// VECTOR TO AESTIVATING\n",
    "\tSEXP p_aes=PROTECT(allocVector(REALSXP, h_K));\n",
    "\tdouble *h_p_aes=REAL(p_aes);\n",
    "\t// INITIALISE\n",
    "\tfor (int i=0; i<h_K; i++)\n",
    "\t{\n",
    "\t\th_p_rep[i]=runif(0.2, 0.8);\n",
    "\t\th_p_aes[i]=0;\n",
    "\t}\n",
    "\t// PROPAGATE\n",
    "\tint offset=0; int offset_parent=0;\n",
    "\tfor (int i=0; i<t; i++)\n",
    "\t{\n",
    "\t\toffset=(i+1)*h_K; offset_parent=i*h_K;\n",
    "\t\tfor (int j=0; j<h_K; j++)\n",
    "\t\t{\n",
    "\t\t\th_p_rep[offset+j]=(rbinom(2*h_rep_N[i], h_p_rep[offset_parent+j])+h_aes_return[i]*h_p_aes[j])/(2*h_denom_N[i]);\n",
    "\t\t\tif (h_aes[i]==1)\n",
    "\t\t\t{\n",
    "\t\t\t\th_p_aes[j]=rbinom(2*h_N_a, h_p_rep[offset_parent+j]);\n",
    "\t\t\t}\n",
    "\t\t}\n",
    "\t}\n",
    "\tPutRNGstate();\n",
    "\tUNPROTECT(2);\n",
    "\treturn p_rep;\n",
    "\"\n",
    "includes<-\"\n",
    "#include <R.h>\n",
    "#include <Rdefines.h>\n",
    "#include <Rinternals.h>\n",
    "#include <Rmath.h>\n",
    "\"\n",
    "quick_aestivation_sim_c<-cfunction(sig=c(rep_N='array', denom_N='array', aes='array', \n",
    "                                         aes_return='array', N_a='numeric', K='integer'), \n",
    "                          body=body, includes=includes, \n",
    "                          language='C', convention='.Call')\n",
    "\n",
    "quick_aestivation_sim2<-function(N_r=5000, N_d=500, N_a=1000, t_r=6, t_d=6, years=5, K=500, starting_month=6)\n",
    "{\n",
    "    # EXPAND BREEDING SIZES\n",
    "    rep_N<-rep(c(N_r-N_a, rep(N_r, t_r-1), rep(N_d, t_d)), years)\n",
    "    rep_N[1]<-N_r\n",
    "    t<-length(rep_N)\n",
    "    denom_N<-rep(c(rep(N_r, t_r), rep(N_d, t_d)), years)\n",
    "    # TRANSITION, -1 MEANS FROM DS TO RS. +1 RS TO DS\n",
    "    aes<-rep(c(rep(0, t_r), 1, rep(0, t_d-1)), years)\n",
    "    aes_return<-rep(c(1, rep(0, t_r+t_d-1)), years)\n",
    "    aes_return[1]<-0\n",
    "    # RUN\n",
    "    p_rep<-quick_aestivation_sim_c(rep_N, denom_N, as.integer(aes), aes_return, N_a, as.integer(K))\n",
    "    return(p_rep)\n",
    "}\n",
    "quick_aestivation_sim2<-cmpfun(quick_aestivation_sim2, 3)"
   ]
  },
  {
   "cell_type": "code",
   "execution_count": 5,
   "id": "be5a9f32",
   "metadata": {},
   "outputs": [
    {
     "data": {
      "text/html": [
       "<ol class=list-inline>\n",
       "\t<li>28</li>\n",
       "\t<li>37</li>\n",
       "\t<li>42</li>\n",
       "</ol>\n"
      ],
      "text/latex": [
       "\\begin{enumerate*}\n",
       "\\item 28\n",
       "\\item 37\n",
       "\\item 42\n",
       "\\end{enumerate*}\n"
      ],
      "text/markdown": [
       "1. 28\n",
       "2. 37\n",
       "3. 42\n",
       "\n",
       "\n"
      ],
      "text/plain": [
       "[1] 28 37 42"
      ]
     },
     "metadata": {},
     "output_type": "display_data"
    }
   ],
   "source": [
    "# SAMPLE AT WHICH GENERATIONS. INCLUDE 24 GENS OF BURN-IN\n",
    "t1<-t[1]+28\n",
    "t2<-t[2]+28\n",
    "t3<-t[3]+28\n",
    "c(t1, t2, t3)"
   ]
  },
  {
   "cell_type": "code",
   "execution_count": 15,
   "id": "ab3fdbd0",
   "metadata": {},
   "outputs": [
    {
     "data": {
      "text/html": [
       "<ol class=list-inline>\n",
       "\t<li>200000</li>\n",
       "\t<li>4</li>\n",
       "</ol>\n"
      ],
      "text/latex": [
       "\\begin{enumerate*}\n",
       "\\item 200000\n",
       "\\item 4\n",
       "\\end{enumerate*}\n"
      ],
      "text/markdown": [
       "1. 200000\n",
       "2. 4\n",
       "\n",
       "\n"
      ],
      "text/plain": [
       "[1] 200000      4"
      ]
     },
     "metadata": {},
     "output_type": "display_data"
    }
   ],
   "source": [
    "# ABC\n",
    "cl<-makeCluster(47)\n",
    "registerDoParallel(cl)\n",
    "result_0809<-foreach(i=1:200, .combine='rbind', .packages='inline') %dopar%\n",
    "{\n",
    "    # BUILD cfunction\n",
    "    quick_aestivation_sim_c<-cfunction(sig=c(rep_N='array', denom_N='array', aes='array', \n",
    "                                         aes_return='array', N_a='numeric', K='integer'), \n",
    "                          body=body, includes=includes, \n",
    "                          language='C', convention='.Call')\n",
    "    # 50000 SIMS PER THREAD, RETURN TOP 1000\n",
    "    k<-50000\n",
    "    out<-1000\n",
    "    # PRIOR\n",
    "    prior_d<-round(runif(k, 10, 500))\n",
    "    prior_r<-round(runif(k, prior_d+2, 10000))\n",
    "    prior_a<-round(runif(k, 1, prior_r-prior_d))\n",
    "    temp_result<-matrix(nc=3, nr=k)\n",
    "    # ABC\n",
    "    for (j in 1:k)\n",
    "    {\n",
    "        # SIM DATA\n",
    "        temp<-quick_aestivation_sim2(N_r=prior_r[j], N_d=prior_d[j], N_a=prior_a[j], K=K)\n",
    "        # SIM SAMPLING\n",
    "        x1<-rbinom(K, size=2*eff_s1, prob=temp[,t1])/(2*eff_s1)\n",
    "        x2<-rbinom(K, size=2*eff_s2, prob=temp[,t2])/(2*eff_s2)\n",
    "        x3<-rbinom(K, size=2*eff_s3, prob=temp[,t3])/(2*eff_s3)\n",
    "        # CALCULATE SS\n",
    "        sim_F21<-mean((x2-x1)^2/((x1+x2)/2-x1*x2)-0.5/eff_s1-0.5/eff_s2, na.rm=T)\n",
    "        sim_F32<-mean((x3-x2)^2/((x3+x2)/2-x3*x2)-0.5/eff_s3-0.5/eff_s2, na.rm=T)\n",
    "        sim_F31<-mean((x3-x1)^2/((x3+x1)/2-x3*x1)-0.5/eff_s1-0.5/eff_s3, na.rm=T)\n",
    "        temp_result[j,]<-c(sim_F21, sim_F32, sim_F31)\n",
    "    }\n",
    "    # CALCULATE DISTANCE\n",
    "    distance<-sqrt((temp_result[,1]-obs_F21)^2+(temp_result[,2]-obs_F32)^2+(temp_result[,3]-obs_F31)^2)\n",
    "    temp<-order(distance)[1:out]\n",
    "    # SHORTLIST\n",
    "    return(cbind(prior_r[temp], prior_d[temp], prior_a[temp], distance[temp]))\n",
    "}\n",
    "stopCluster(cl)\n",
    "dim(result_0809)"
   ]
  },
  {
   "cell_type": "code",
   "execution_count": 16,
   "id": "4b1efb12",
   "metadata": {},
   "outputs": [
    {
     "data": {
      "text/html": [
       "0.021849415387124"
      ],
      "text/latex": [
       "0.021849415387124"
      ],
      "text/markdown": [
       "0.021849415387124"
      ],
      "text/plain": [
       "[1] 0.02184942"
      ]
     },
     "metadata": {},
     "output_type": "display_data"
    },
    {
     "data": {
      "image/png": "[encoded data removed]",
      "text/plain": [
       "Plot with title \"\""
      ]
     },
     "metadata": {},
     "output_type": "display_data"
    }
   ],
   "source": [
    "# THEN CALCULATE ANOTHER ROUND OF DISTANCE\n",
    "temp<-order(result_0809[,4])[1:1000]\n",
    "posterior_r<-result_0809[temp,1]\n",
    "posterior_d<-result_0809[temp,2]\n",
    "posterior_a<-result_0809[temp,3]\n",
    "max(result_0809[temp,4]) # EPSILON\n",
    "\n",
    "# POSTERIOR PLOTS\n",
    "par(mfrow=c(2,2))\n",
    "hist(posterior_r, breaks=25, xlab=expression(italic(N['R'])), main='')\n",
    "hist(posterior_d, breaks=25, xlab=expression(italic(N['D'])), main='')\n",
    "hist(posterior_a, breaks=25, xlab=expression(italic(N['A'])), main='')\n",
    "hist(posterior_a/posterior_r, breaks=25, xlab=expression(italic(alpha)), main='')"
   ]
  },
  {
   "cell_type": "code",
   "execution_count": 17,
   "id": "4afab6e5",
   "metadata": {},
   "outputs": [
    {
     "data": {
      "text/html": [
       "281.5"
      ],
      "text/latex": [
       "281.5"
      ],
      "text/markdown": [
       "281.5"
      ],
      "text/plain": [
       "[1] 281.5"
      ]
     },
     "metadata": {},
     "output_type": "display_data"
    },
    {
     "data": {
      "text/html": [
       "<dl class=dl-horizontal>\n",
       "\t<dt>10%</dt>\n",
       "\t\t<dd>159</dd>\n",
       "\t<dt>90%</dt>\n",
       "\t\t<dd>524</dd>\n",
       "</dl>\n"
      ],
      "text/latex": [
       "\\begin{description*}\n",
       "\\item[10\\textbackslash{}\\%] 159\n",
       "\\item[90\\textbackslash{}\\%] 524\n",
       "\\end{description*}\n"
      ],
      "text/markdown": [
       "10%\n",
       ":   15990%\n",
       ":   524\n",
       "\n"
      ],
      "text/plain": [
       "10% 90% \n",
       "159 524 "
      ]
     },
     "metadata": {},
     "output_type": "display_data"
    }
   ],
   "source": [
    "# POSTERIOR N_R\n",
    "median(posterior_r)\n",
    "quantile(posterior_r, c(0.1, 0.9))"
   ]
  },
  {
   "cell_type": "code",
   "execution_count": 18,
   "id": "47c4498c",
   "metadata": {},
   "outputs": [
    {
     "data": {
      "text/html": [
       "38"
      ],
      "text/latex": [
       "38"
      ],
      "text/markdown": [
       "38"
      ],
      "text/plain": [
       "[1] 38"
      ]
     },
     "metadata": {},
     "output_type": "display_data"
    },
    {
     "data": {
      "text/html": [
       "<dl class=dl-horizontal>\n",
       "\t<dt>10%</dt>\n",
       "\t\t<dd>33</dd>\n",
       "\t<dt>90%</dt>\n",
       "\t\t<dd>43</dd>\n",
       "</dl>\n"
      ],
      "text/latex": [
       "\\begin{description*}\n",
       "\\item[10\\textbackslash{}\\%] 33\n",
       "\\item[90\\textbackslash{}\\%] 43\n",
       "\\end{description*}\n"
      ],
      "text/markdown": [
       "10%\n",
       ":   3390%\n",
       ":   43\n",
       "\n"
      ],
      "text/plain": [
       "10% 90% \n",
       " 33  43 "
      ]
     },
     "metadata": {},
     "output_type": "display_data"
    }
   ],
   "source": [
    "# POSTERIOR N_D\n",
    "median(posterior_d)\n",
    "quantile(posterior_d, c(0.1, 0.9))"
   ]
  },
  {
   "cell_type": "code",
   "execution_count": 19,
   "id": "4b61483e",
   "metadata": {},
   "outputs": [
    {
     "data": {
      "text/html": [
       "222"
      ],
      "text/latex": [
       "222"
      ],
      "text/markdown": [
       "222"
      ],
      "text/plain": [
       "[1] 222"
      ]
     },
     "metadata": {},
     "output_type": "display_data"
    },
    {
     "data": {
      "text/html": [
       "<dl class=dl-horizontal>\n",
       "\t<dt>10%</dt>\n",
       "\t\t<dd>111</dd>\n",
       "\t<dt>90%</dt>\n",
       "\t\t<dd>454</dd>\n",
       "</dl>\n"
      ],
      "text/latex": [
       "\\begin{description*}\n",
       "\\item[10\\textbackslash{}\\%] 111\n",
       "\\item[90\\textbackslash{}\\%] 454\n",
       "\\end{description*}\n"
      ],
      "text/markdown": [
       "10%\n",
       ":   11190%\n",
       ":   454\n",
       "\n"
      ],
      "text/plain": [
       "10% 90% \n",
       "111 454 "
      ]
     },
     "metadata": {},
     "output_type": "display_data"
    }
   ],
   "source": [
    "# POSTERIOR N_A\n",
    "median(posterior_a)\n",
    "quantile(posterior_a, c(0.1, 0.9))"
   ]
  },
  {
   "cell_type": "code",
   "execution_count": 20,
   "id": "1e260d01",
   "metadata": {},
   "outputs": [
    {
     "data": {
      "text/html": [
       "0.789998038510576"
      ],
      "text/latex": [
       "0.789998038510576"
      ],
      "text/markdown": [
       "0.789998038510576"
      ],
      "text/plain": [
       "[1] 0.789998"
      ]
     },
     "metadata": {},
     "output_type": "display_data"
    },
    {
     "data": {
      "text/html": [
       "<dl class=dl-horizontal>\n",
       "\t<dt>10%</dt>\n",
       "\t\t<dd>0.69431758128668</dd>\n",
       "\t<dt>90%</dt>\n",
       "\t\t<dd>0.883799933961961</dd>\n",
       "</dl>\n"
      ],
      "text/latex": [
       "\\begin{description*}\n",
       "\\item[10\\textbackslash{}\\%] 0.69431758128668\n",
       "\\item[90\\textbackslash{}\\%] 0.883799933961961\n",
       "\\end{description*}\n"
      ],
      "text/markdown": [
       "10%\n",
       ":   0.6943175812866890%\n",
       ":   0.883799933961961\n",
       "\n"
      ],
      "text/plain": [
       "      10%       90% \n",
       "0.6943176 0.8837999 "
      ]
     },
     "metadata": {},
     "output_type": "display_data"
    }
   ],
   "source": [
    "# POSTERIOR alpha\n",
    "median(posterior_a/posterior_r)\n",
    "quantile(posterior_a/posterior_r, c(0.1, 0.9))"
   ]
  },
  {
   "cell_type": "markdown",
   "id": "0d87e727",
   "metadata": {},
   "source": [
    "#### 3. The second year: 2009-2010\n",
    "##### 3.1 The observed data\n",
    "With samples from Th09Oc, Th10Ap, Th10Ju. "
   ]
  },
  {
   "cell_type": "code",
   "execution_count": 21,
   "id": "201595b8",
   "metadata": {},
   "outputs": [
    {
     "data": {
      "text/html": [
       "536"
      ],
      "text/latex": [
       "536"
      ],
      "text/markdown": [
       "536"
      ],
      "text/plain": [
       "[1] 536"
      ]
     },
     "metadata": {},
     "output_type": "display_data"
    },
    {
     "data": {
      "text/html": [
       "<ol class=list-inline>\n",
       "\t<li>0.00714176628824749</li>\n",
       "\t<li>0.00239556865329218</li>\n",
       "\t<li>0.00356340060738201</li>\n",
       "</ol>\n"
      ],
      "text/latex": [
       "\\begin{enumerate*}\n",
       "\\item 0.00714176628824749\n",
       "\\item 0.00239556865329218\n",
       "\\item 0.00356340060738201\n",
       "\\end{enumerate*}\n"
      ],
      "text/markdown": [
       "1. 0.00714176628824749\n",
       "2. 0.00239556865329218\n",
       "3. 0.00356340060738201\n",
       "\n",
       "\n"
      ],
      "text/plain": [
       "[1] 0.007141766 0.002395569 0.003563401"
      ]
     },
     "metadata": {},
     "output_type": "display_data"
    }
   ],
   "source": [
    "# SECOND YEAR: Th09Oc, Th10Ap, Th10Ju\n",
    "# EXTRACT THE THREE ALLELE FREQ\n",
    "p1<-all_allele_freq[3,]\n",
    "p2<-all_allele_freq[5,]\n",
    "p3<-all_allele_freq[6,]\n",
    "# THE THREE EFFECTIVE SAMPLE SIZE PER LOCUS\n",
    "eff_s1<-all_eff_s[3,]\n",
    "eff_s2<-all_eff_s[5,]\n",
    "eff_s3<-all_eff_s[6,]\n",
    "# POOLED ALLELE FREQ, WEIGHTED AVERAGE\n",
    "p<-(p1*eff_s1+p2*eff_s2+p3*eff_s3)/(eff_s1+eff_s2+eff_s3)\n",
    "# MAF CUTOFF, POOLED\n",
    "temp<-(p>=0.05) & (p<=0.95)\n",
    "K<-sum(temp)\n",
    "K\n",
    "# SUBSET\n",
    "p1<-p1[temp]\n",
    "p2<-p2[temp]\n",
    "p3<-p3[temp]\n",
    "eff_s1<-eff_s1[temp]\n",
    "eff_s2<-eff_s2[temp]\n",
    "eff_s3<-eff_s3[temp]\n",
    "# THE F STATISTIC\n",
    "obs_F21<-mean((p1-p2)^2/((p1+p2)/2-p1*p2)-0.5/eff_s1-0.5/eff_s2, na.rm=T)\n",
    "obs_F32<-mean((p3-p2)^2/((p3+p2)/2-p3*p2)-0.5/eff_s3-0.5/eff_s2, na.rm=T)\n",
    "obs_F31<-mean((p3-p1)^2/((p3+p1)/2-p3*p1)-0.5/eff_s3-0.5/eff_s1, na.rm=T)\n",
    "c(obs_F21, obs_F32, obs_F31)"
   ]
  },
  {
   "cell_type": "code",
   "execution_count": 22,
   "id": "be0b9bb8",
   "metadata": {},
   "outputs": [
    {
     "data": {
      "text/html": [
       "<ol class=list-inline>\n",
       "\t<li>42</li>\n",
       "\t<li>48</li>\n",
       "\t<li>50</li>\n",
       "</ol>\n"
      ],
      "text/latex": [
       "\\begin{enumerate*}\n",
       "\\item 42\n",
       "\\item 48\n",
       "\\item 50\n",
       "\\end{enumerate*}\n"
      ],
      "text/markdown": [
       "1. 42\n",
       "2. 48\n",
       "3. 50\n",
       "\n",
       "\n"
      ],
      "text/plain": [
       "[1] 42 48 50"
      ]
     },
     "metadata": {},
     "output_type": "display_data"
    }
   ],
   "source": [
    "# NUMBER OF GENERATIONS\n",
    "t1<-t[3]+28\n",
    "t2<-t[5]+28\n",
    "t3<-t[6]+28\n",
    "c(t1, t2, t3)"
   ]
  },
  {
   "cell_type": "code",
   "execution_count": 23,
   "id": "2b324604",
   "metadata": {},
   "outputs": [
    {
     "data": {
      "text/html": [
       "<ol class=list-inline>\n",
       "\t<li>200000</li>\n",
       "\t<li>4</li>\n",
       "</ol>\n"
      ],
      "text/latex": [
       "\\begin{enumerate*}\n",
       "\\item 200000\n",
       "\\item 4\n",
       "\\end{enumerate*}\n"
      ],
      "text/markdown": [
       "1. 200000\n",
       "2. 4\n",
       "\n",
       "\n"
      ],
      "text/plain": [
       "[1] 200000      4"
      ]
     },
     "metadata": {},
     "output_type": "display_data"
    }
   ],
   "source": [
    "# ABC\n",
    "cl<-makeCluster(46)\n",
    "registerDoParallel(cl)\n",
    "result_0910<-foreach(i=1:200, .combine='rbind', .packages='inline') %dopar%\n",
    "{\n",
    "    # BUILD cfunction\n",
    "    quick_aestivation_sim_c<-cfunction(sig=c(rep_N='array', denom_N='array', aes='array', \n",
    "                                         aes_return='array', N_a='numeric', K='integer'), \n",
    "                          body=body, includes=includes, \n",
    "                          language='C', convention='.Call')\n",
    "    k<-50000\n",
    "    out<-1000\n",
    "    prior_d<-round(runif(k, 10, 1000))\n",
    "    prior_r<-round(runif(k, prior_d+2, 50000))\n",
    "    prior_a<-round(runif(k, 1, prior_r-prior_d))\n",
    "    temp_result<-matrix(nc=3, nr=k)\n",
    "    for (j in 1:k)\n",
    "    {\n",
    "        # SIM\n",
    "        temp<-quick_aestivation_sim2(N_r=prior_r[j], N_d=prior_d[j], N_a=prior_a[j], K=K)\n",
    "        # SAMPLING\n",
    "        x1<-rbinom(K, size=2*eff_s1, prob=temp[,t1])/(2*eff_s1)\n",
    "        x2<-rbinom(K, size=2*eff_s2, prob=temp[,t2])/(2*eff_s2)\n",
    "        x3<-rbinom(K, size=2*eff_s3, prob=temp[,t3])/(2*eff_s3)\n",
    "        # CALCULATE F\n",
    "        sim_F21<-mean((x2-x1)^2/((x1+x2)/2-x1*x2)-0.5/eff_s1-0.5/eff_s2, na.rm=T)\n",
    "        sim_F32<-mean((x3-x2)^2/((x3+x2)/2-x3*x2)-0.5/eff_s3-0.5/eff_s2, na.rm=T)\n",
    "        sim_F31<-mean((x3-x1)^2/((x3+x1)/2-x3*x1)-0.5/eff_s1-0.5/eff_s3, na.rm=T)\n",
    "        temp_result[j,]<-c(sim_F21, sim_F32, sim_F31)\n",
    "    }\n",
    "    # CALCULATE DISTANCE\n",
    "    distance<-sqrt((temp_result[,1]-obs_F21)^2+(temp_result[,2]-obs_F32)^2+(temp_result[,3]-obs_F31)^2)\n",
    "    temp<-order(distance)[1:out]\n",
    "    # SHORTLIST\n",
    "    return(cbind(prior_r[temp], prior_d[temp], prior_a[temp], distance[temp]))\n",
    "}\n",
    "stopCluster(cl)\n",
    "dim(result_0910)"
   ]
  },
  {
   "cell_type": "code",
   "execution_count": 24,
   "id": "373ead1a",
   "metadata": {},
   "outputs": [
    {
     "data": {
      "text/html": [
       "0.000267914120191508"
      ],
      "text/latex": [
       "0.000267914120191508"
      ],
      "text/markdown": [
       "0.000267914120191508"
      ],
      "text/plain": [
       "[1] 0.0002679141"
      ]
     },
     "metadata": {},
     "output_type": "display_data"
    },
    {
     "data": {
      "image/png": "[encoded data removed]",
      "text/plain": [
       "Plot with title \"\""
      ]
     },
     "metadata": {},
     "output_type": "display_data"
    }
   ],
   "source": [
    "# THEN CALCULATE ANOTHER ROUND OF DISTANCE\n",
    "temp<-order(result_0910[,4])[1:1000]\n",
    "posterior_r<-result_0910[temp,1]\n",
    "posterior_d<-result_0910[temp,2]\n",
    "posterior_a<-result_0910[temp,3]\n",
    "max(result_0910[temp,4]) # EPSILON\n",
    "\n",
    "# POSTERIOR PLOTS\n",
    "par(mfrow=c(2,2))\n",
    "hist(posterior_r, breaks=25, xlab=expression(italic(N['R'])), main='')\n",
    "hist(posterior_d, breaks=25, xlab=expression(italic(N['D'])), main='')\n",
    "hist(posterior_a, breaks=25, xlab=expression(italic(N['A'])), main='')\n",
    "hist(posterior_a/posterior_r, breaks=25, xlab=expression(italic(alpha)), main='')"
   ]
  },
  {
   "cell_type": "code",
   "execution_count": 26,
   "id": "7c10d106",
   "metadata": {},
   "outputs": [
    {
     "data": {
      "text/html": [
       "383"
      ],
      "text/latex": [
       "383"
      ],
      "text/markdown": [
       "383"
      ],
      "text/plain": [
       "[1] 383"
      ]
     },
     "metadata": {},
     "output_type": "display_data"
    },
    {
     "data": {
      "text/html": [
       "<dl class=dl-horizontal>\n",
       "\t<dt>10%</dt>\n",
       "\t\t<dd>270</dd>\n",
       "\t<dt>90%</dt>\n",
       "\t\t<dd>592.1</dd>\n",
       "</dl>\n"
      ],
      "text/latex": [
       "\\begin{description*}\n",
       "\\item[10\\textbackslash{}\\%] 270\n",
       "\\item[90\\textbackslash{}\\%] 592.1\n",
       "\\end{description*}\n"
      ],
      "text/markdown": [
       "10%\n",
       ":   27090%\n",
       ":   592.1\n",
       "\n"
      ],
      "text/plain": [
       "  10%   90% \n",
       "270.0 592.1 "
      ]
     },
     "metadata": {},
     "output_type": "display_data"
    }
   ],
   "source": [
    "# POSTERIOR N_D\n",
    "median(posterior_d)\n",
    "quantile(posterior_d, c(0.1, 0.9))"
   ]
  },
  {
   "cell_type": "code",
   "execution_count": 28,
   "id": "3ccd34de",
   "metadata": {},
   "outputs": [
    {
     "data": {
      "text/html": [
       "0.397953909281761"
      ],
      "text/latex": [
       "0.397953909281761"
      ],
      "text/markdown": [
       "0.397953909281761"
      ],
      "text/plain": [
       "[1] 0.3979539"
      ]
     },
     "metadata": {},
     "output_type": "display_data"
    },
    {
     "data": {
      "text/html": [
       "<dl class=dl-horizontal>\n",
       "\t<dt>10%</dt>\n",
       "\t\t<dd>0.204883490738359</dd>\n",
       "\t<dt>90%</dt>\n",
       "\t\t<dd>0.591366208579684</dd>\n",
       "</dl>\n"
      ],
      "text/latex": [
       "\\begin{description*}\n",
       "\\item[10\\textbackslash{}\\%] 0.204883490738359\n",
       "\\item[90\\textbackslash{}\\%] 0.591366208579684\n",
       "\\end{description*}\n"
      ],
      "text/markdown": [
       "10%\n",
       ":   0.20488349073835990%\n",
       ":   0.591366208579684\n",
       "\n"
      ],
      "text/plain": [
       "      10%       90% \n",
       "0.2048835 0.5913662 "
      ]
     },
     "metadata": {},
     "output_type": "display_data"
    }
   ],
   "source": [
    "# POSTERIOR ALPHA\n",
    "median(posterior_a/posterior_r)\n",
    "quantile(posterior_a/posterior_r, c(0.1, 0.9))"
   ]
  },
  {
   "cell_type": "code",
   "execution_count": null,
   "id": "c5d4b99d",
   "metadata": {},
   "outputs": [],
   "source": []
  }
 ],
 "metadata": {
  "kernelspec": {
   "display_name": "R-3.5.3",
   "language": "R",
   "name": "ir353"
  },
  "language_info": {
   "codemirror_mode": "r",
   "file_extension": ".r",
   "mimetype": "text/x-r-source",
   "name": "R",
   "pygments_lexer": "r",
   "version": "3.5.3"
  }
 },
 "nbformat": 4,
 "nbformat_minor": 5
}
