{
 "cells": [
  {
   "cell_type": "markdown",
   "id": "d28e6299",
   "metadata": {},
   "source": [
    "### Estimating reproducing and aestivating sizes for Lehmann's dataset\n",
    "#### version 2, with 6 months per season\n",
    "via ABC?\n",
    "\n",
    "Now we have calculated summary statistics, and estimated some Ne for the dataset. Next is to apply what we have learnt from modelling and try to estimate reproducing and aestivating sizes. In the modelling notebook, we understood how aestivation alters alelle frequency over time in a different way from seasonal Ne. Mosquitoes re-emerge at the beginning of the wet season, dampens the changes (and variance). As a result, if our temporal samples cover such time point, then the temporal F will be smaller than the sum of shorter term F. \n",
    "\n",
    "We now hope to use the same model for parameter estimation. In our simplest aestivation model we have 3 parameters (wet + dry reproducing and aestivating sizes). We could use the same simulator, but it is slow. Let us rewrite a simplified (but a lot quicker) version for it. How simple is this? Previously our individual-based simulator simulate haplotypes for all inviduals in the population. What if we do not need to know the exact genotype configuration of all individuals? What if we are only interested in the allele frequency?. By omitting individual information save a lot of time (provided that you know how to write it). The simplified version, however, does not provide us signals such as LD or clustering. I also make other minor adjustments, such as making it 6 generations per season. \n",
    "\n",
    "Then we read in the Lehmann's dataset, and repeat some simple calculations/countings. For example, the temporal separation between samples, and the effective sample size per locus (per population). We may need some of our previously-defined functions, such as those regarding the calculation of temporal F. "
   ]
  },
  {
   "cell_type": "code",
   "execution_count": 1,
   "id": "297ce14a",
   "metadata": {},
   "outputs": [
    {
     "name": "stderr",
     "output_type": "stream",
     "text": [
      "Loading required package: compiler\n",
      "Loading required package: doParallel\n",
      "Loading required package: foreach\n",
      "Loading required package: iterators\n",
      "Loading required package: parallel\n",
      "Loading required package: inline\n"
     ]
    }
   ],
   "source": [
    "require(compiler)\n",
    "require(doParallel)\n",
    "require(inline)"
   ]
  },
  {
   "cell_type": "code",
   "execution_count": 2,
   "id": "4dba14a1",
   "metadata": {},
   "outputs": [],
   "source": [
    "# A SIMPLIFIED SIMULATOR OF ALLELE FREQ FOR AESTIVATION\n",
    "# THREE PARAMETER MODEL\n",
    "# [2] IS THE BEGINNING OF RS, SAY, MAY\n",
    "quick_aestivation_sim<-function(N_r=5000, N_d=500, N_a=1000, t_r=6, t_d=6, years=5, K=500, starting_month=6)\n",
    "{\n",
    "    # EXPAND BREEDING SIZES\n",
    "    rep_N<-rep(c(N_r-N_a, rep(N_r, t_r-1), rep(N_d, t_d)), years)\n",
    "    rep_N[1]<-N_r\n",
    "    t<-length(rep_N)\n",
    "    denom_N<-rep(c(rep(N_r, t_r), rep(N_d, t_d)), years)\n",
    "    # TRANSITION, -1 MEANS FROM DS TO RS. +1 RS TO DS\n",
    "    aes<-rep(c(rep(0, t_r), 1, rep(0, t_d-1)), years)\n",
    "    aes_return<-rep(c(1, rep(0, t_r+t_d-1)), years)\n",
    "    aes_return[1]<-0\n",
    "    # INITIAL ALLELE FREQ OF THE TWO COMPARTMENTS\n",
    "    p_rep<-matrix(nc=t+1, nr=K)\n",
    "    p_rep[,1]<-runif(K, 0.2, 0.8)\n",
    "    p_aes<-rep(0, K)\n",
    "    for (i in 1:t)\n",
    "    {\n",
    "        p_rep[,i+1]<-(rbinom(K, size=2*rep_N[i], prob=p_rep[,i])+aes_return[i]*p_aes)/(2*denom_N[i])\n",
    "        if (aes[i]==1)\n",
    "        {\n",
    "            p_aes<-rbinom(K, size=2*N_a, prob=p_rep[,i])\n",
    "        }\n",
    "    }\n",
    "    return(p_rep)\n",
    "}\n",
    "quick_aestivation_sim<-cmpfun(quick_aestivation_sim, 3)\n",
    "#\n",
    "quick_aestivation_sim_month<-function(t_r=6, t_d=6, years=5, starting_month=6)\n",
    "{\n",
    "    t<-(t_r+t_d)*years\n",
    "    # RETURN THE MONTHS AND SEASON\n",
    "    month<-(starting_month:(starting_month+t))%%12\n",
    "    month[month==0]<-12\n",
    "    month<-c(NA, month)\n",
    "    season<-c(NA, rep(c(rep('rainy', t_r), rep('dry', t_d)), years))\n",
    "    return(list(month=month, season=season))\n",
    "}\n",
    "#\n",
    "h_mean<-function(x) {1/mean(1/x, na.rm=T)}"
   ]
  },
  {
   "cell_type": "code",
   "execution_count": 3,
   "id": "6a80259f",
   "metadata": {},
   "outputs": [],
   "source": [
    "# ANOTHER VERSION. HOPEFULLY FASTER\n",
    "body<-\"\n",
    "\tGetRNGstate();\n",
    "\tdouble *h_rep_N=REAL(rep_N); double *h_denom_N=REAL(denom_N);\n",
    "\tint *h_aes=INTEGER(aes); double *h_aes_return=REAL(aes_return);\n",
    "\tint h_K=asInteger(K); double h_N_a=asReal(N_a);\n",
    "\tint t=LENGTH(rep_N);\n",
    "\t// THE ALLELE FREQ MATRIX FOR BREEDING\n",
    "\tSEXP p_rep=PROTECT(allocMatrix(REALSXP, h_K, t+1));\n",
    "\tdouble *h_p_rep=REAL(p_rep);\n",
    "\t// VECTOR TO AESTIVATING\n",
    "\tSEXP p_aes=PROTECT(allocVector(REALSXP, h_K));\n",
    "\tdouble *h_p_aes=REAL(p_aes);\n",
    "\t// INITIALISE\n",
    "\tfor (int i=0; i<h_K; i++)\n",
    "\t{\n",
    "\t\th_p_rep[i]=runif(0.2, 0.8);\n",
    "\t\th_p_aes[i]=0;\n",
    "\t}\n",
    "\t// PROPAGATE\n",
    "\tint offset=0; int offset_parent=0;\n",
    "\tfor (int i=0; i<t; i++)\n",
    "\t{\n",
    "\t\toffset=(i+1)*h_K; offset_parent=i*h_K;\n",
    "\t\tfor (int j=0; j<h_K; j++)\n",
    "\t\t{\n",
    "\t\t\th_p_rep[offset+j]=(rbinom(2*h_rep_N[i], h_p_rep[offset_parent+j])+h_aes_return[i]*h_p_aes[j])/(2*h_denom_N[i]);\n",
    "\t\t\tif (h_aes[i]==1)\n",
    "\t\t\t{\n",
    "\t\t\t\th_p_aes[j]=rbinom(2*h_N_a, h_p_rep[offset_parent+j]);\n",
    "\t\t\t}\n",
    "\t\t}\n",
    "\t}\n",
    "\tPutRNGstate();\n",
    "\tUNPROTECT(2);\n",
    "\treturn p_rep;\n",
    "\"\n",
    "includes<-\"\n",
    "#include <R.h>\n",
    "#include <Rdefines.h>\n",
    "#include <Rinternals.h>\n",
    "#include <Rmath.h>\n",
    "\"\n",
    "quick_aestivation_sim_c<-cfunction(sig=c(rep_N='array', denom_N='array', aes='array', \n",
    "                                         aes_return='array', N_a='numeric', K='integer'), \n",
    "                          body=body, includes=includes, \n",
    "                          language='C', convention='.Call')\n",
    "\n",
    "quick_aestivation_sim2<-function(N_r=5000, N_d=500, N_a=1000, t_r=6, t_d=6, years=5, K=500, starting_month=6)\n",
    "{\n",
    "    # EXPAND BREEDING SIZES\n",
    "    rep_N<-rep(c(N_r-N_a, rep(N_r, t_r-1), rep(N_d, t_d)), years)\n",
    "    rep_N[1]<-N_r\n",
    "    t<-length(rep_N)\n",
    "    denom_N<-rep(c(rep(N_r, t_r), rep(N_d, t_d)), years)\n",
    "    # TRANSITION, -1 MEANS FROM DS TO RS. +1 RS TO DS\n",
    "    aes<-rep(c(rep(0, t_r), 1, rep(0, t_d-1)), years)\n",
    "    aes_return<-rep(c(1, rep(0, t_r+t_d-1)), years)\n",
    "    aes_return[1]<-0\n",
    "    # RUN\n",
    "    p_rep<-quick_aestivation_sim_c(rep_N, denom_N, as.integer(aes), aes_return, N_a, as.integer(K))\n",
    "    return(p_rep)\n",
    "}\n",
    "quick_aestivation_sim2<-cmpfun(quick_aestivation_sim2, 3)"
   ]
  },
  {
   "cell_type": "code",
   "execution_count": 4,
   "id": "8d0a4eae",
   "metadata": {},
   "outputs": [
    {
     "data": {
      "image/png": "[encoded data removed]",
      "text/plain": [
       "plot without title"
      ]
     },
     "metadata": {},
     "output_type": "display_data"
    }
   ],
   "source": [
    "# TEST\n",
    "m<-quick_aestivation_sim2(N_r=5000, N_d=500, N_a=4500, years=4)\n",
    "matplot(t(m), type='l')\n",
    "abline(v=c(52, 52+9, 52+14), col='grey', lty=2)"
   ]
  },
  {
   "cell_type": "code",
   "execution_count": 5,
   "id": "152f44d7",
   "metadata": {},
   "outputs": [
    {
     "data": {
      "text/html": [
       "<ol class=list-inline>\n",
       "\t<li>505</li>\n",
       "\t<li>742</li>\n",
       "</ol>\n"
      ],
      "text/latex": [
       "\\begin{enumerate*}\n",
       "\\item 505\n",
       "\\item 742\n",
       "\\end{enumerate*}\n"
      ],
      "text/markdown": [
       "1. 505\n",
       "2. 742\n",
       "\n",
       "\n"
      ],
      "text/plain": [
       "[1] 505 742"
      ]
     },
     "metadata": {},
     "output_type": "display_data"
    },
    {
     "data": {
      "text/html": [
       "<ol class=list-inline>\n",
       "\t<li>'PoD'</li>\n",
       "\t<li>'MosID'</li>\n",
       "\t<li>'Sex'</li>\n",
       "\t<li>'CollDate'</li>\n",
       "\t<li>'X2L10328509'</li>\n",
       "\t<li>'X2L11053982'</li>\n",
       "\t<li>'X2L11709879'</li>\n",
       "\t<li>'X2L11960688'</li>\n",
       "</ol>\n"
      ],
      "text/latex": [
       "\\begin{enumerate*}\n",
       "\\item 'PoD'\n",
       "\\item 'MosID'\n",
       "\\item 'Sex'\n",
       "\\item 'CollDate'\n",
       "\\item 'X2L10328509'\n",
       "\\item 'X2L11053982'\n",
       "\\item 'X2L11709879'\n",
       "\\item 'X2L11960688'\n",
       "\\end{enumerate*}\n"
      ],
      "text/markdown": [
       "1. 'PoD'\n",
       "2. 'MosID'\n",
       "3. 'Sex'\n",
       "4. 'CollDate'\n",
       "5. 'X2L10328509'\n",
       "6. 'X2L11053982'\n",
       "7. 'X2L11709879'\n",
       "8. 'X2L11960688'\n",
       "\n",
       "\n"
      ],
      "text/plain": [
       "[1] \"PoD\"         \"MosID\"       \"Sex\"         \"CollDate\"    \"X2L10328509\"\n",
       "[6] \"X2L11053982\" \"X2L11709879\" \"X2L11960688\""
      ]
     },
     "metadata": {},
     "output_type": "display_data"
    },
    {
     "data": {
      "image/png": "[encoded data removed]",
      "text/plain": [
       "plot without title"
      ]
     },
     "metadata": {},
     "output_type": "display_data"
    }
   ],
   "source": [
    "# READ LEHMANN csv \n",
    "dat<-read.csv('Lehmann_coded_tinyu.csv', header=T, stringsAsFactors=F)\n",
    "dim(dat)\n",
    "names(dat)[1:8]\n",
    "\n",
    "# THE 7 THIEROLA POPULATIONS IN CHRONOLOGICAL ORDER\n",
    "PoD<-c('Th08Au', 'Th09Ma', 'Th09Oc', 'Th10Ja', 'Th10Ap', 'Th10Ju', 'Th10Au')\n",
    "\n",
    "# CREATE A VECTOR TO SHOW THE RELATIVE TIME (IN GENERATIONS) AMONG THESE 7 TIME POINTS\n",
    "# Th08Au IS CONSIDERED AS THE 0th MONTH OF THE SAMPLE. 09Ma IS MAY, 10Ju IS JUNE\n",
    "t<-c(0, 9, 14, 17, 20, 22, 24)\n",
    "\n",
    "# WORK OUT ALL ALLELE FREQ PER POPULATION\n",
    "# AND ALSO EFFECT SAMPLE SIZE PER LOCUS PER POPULATION\n",
    "# 7 ROWS, 738 COLUMNS\n",
    "all_allele_freq<-matrix(nr=length(PoD), nc=ncol(dat)-4)\n",
    "all_eff_s<-all_allele_freq\n",
    "for (i in 1:length(PoD))\n",
    "{\n",
    "    sample<-dat[dat$PoD==PoD[i], 5:ncol(dat)]\n",
    "    all_allele_freq[i,]<-apply(sample, 2, function(x) {mean(x, na.rm=T)/2})\n",
    "    all_eff_s[i,]<-apply(sample, 2, function(x) {sum(!is.na(x))})\n",
    "}\n",
    "\n",
    "# PLOT THE SEASONS\n",
    "plot(y=rep(1, length(t)), x=t+27, \n",
    "    xlab='generations', ylab='sampling time points and seasonality', xlim=c(25, 56), pch=16, yaxt='n', xaxt='n')\n",
    "text(y=1+0.05*(-1)^(1:length(t)), x=t+28, labels=PoD)\n",
    "temp<-c(6.5, 12.5)\n",
    "temp<-c(temp, temp+12, temp+24, temp+36, temp+48, temp+60, temp+72, temp+84, temp+96)\n",
    "abline(v=temp, col='grey', lty=2)\n",
    "text(y=rep(0.9, length(temp)), x=temp-3, label=rep(c('rainy', 'dry'), length(temp)/2), col='grey')\n",
    "rm(temp)\n",
    "# DEC TO MAY ARE DS (LEHMANN ET AL. )"
   ]
  },
  {
   "cell_type": "markdown",
   "id": "ba5fe095",
   "metadata": {},
   "source": [
    "#### Year 1 ABC revisited with 6 months DS"
   ]
  },
  {
   "cell_type": "code",
   "execution_count": 16,
   "id": "ed823733",
   "metadata": {},
   "outputs": [
    {
     "data": {
      "text/html": [
       "540"
      ],
      "text/latex": [
       "540"
      ],
      "text/markdown": [
       "540"
      ],
      "text/plain": [
       "[1] 540"
      ]
     },
     "metadata": {},
     "output_type": "display_data"
    },
    {
     "data": {
      "text/html": [
       "<ol class=list-inline>\n",
       "\t<li>0.0652268906387129</li>\n",
       "\t<li>0.0653842577250271</li>\n",
       "\t<li>0.0256322252681547</li>\n",
       "</ol>\n"
      ],
      "text/latex": [
       "\\begin{enumerate*}\n",
       "\\item 0.0652268906387129\n",
       "\\item 0.0653842577250271\n",
       "\\item 0.0256322252681547\n",
       "\\end{enumerate*}\n"
      ],
      "text/markdown": [
       "1. 0.0652268906387129\n",
       "2. 0.0653842577250271\n",
       "3. 0.0256322252681547\n",
       "\n",
       "\n"
      ],
      "text/plain": [
       "[1] 0.06522689 0.06538426 0.02563223"
      ]
     },
     "metadata": {},
     "output_type": "display_data"
    }
   ],
   "source": [
    "# YEAR 1, Th08Au, Th09Ma, Th09Oc\n",
    "# EXTRACT THE THREE ALLELE FREQ\n",
    "p1<-all_allele_freq[1,]\n",
    "p2<-all_allele_freq[2,]\n",
    "p3<-all_allele_freq[3,]\n",
    "# THE THREE EFFECTIVE SAMPLE SIZE PER LOCUS\n",
    "eff_s1<-all_eff_s[1,]\n",
    "eff_s2<-all_eff_s[2,]\n",
    "eff_s3<-all_eff_s[3,]\n",
    "# OVERALL ALLELE FREQ, WEIGHTED AVERAGE\n",
    "p<-(p1*eff_s1+p2*eff_s2+p3*eff_s3)/(eff_s1+eff_s2+eff_s3)\n",
    "# MAF CUTOFF, POOLED, AND NOT FIXED/EXTINCT\n",
    "temp<-(p>=0.05) & (p<=0.95) & (p1>0) & (p1<1) & (p2>0) & (p2<1) & (p3>0) & (p3<1)\n",
    "#temp<-(p>=0.05) & (p<=0.95)\n",
    "K<-sum(temp)\n",
    "K\n",
    "# SUBSET\n",
    "p1<-p1[temp]\n",
    "p2<-p2[temp]\n",
    "p3<-p3[temp]\n",
    "eff_s1<-eff_s1[temp]\n",
    "eff_s2<-eff_s2[temp]\n",
    "eff_s3<-eff_s3[temp]\n",
    "# THE F STATISTIC\n",
    "obs_F21<-mean((p1-p2)^2/((p1+p2)/2-p1*p2)-0.5/eff_s1-0.5/eff_s2, na.rm=T)\n",
    "obs_F32<-mean((p3-p2)^2/((p3+p2)/2-p3*p2)-0.5/eff_s3-0.5/eff_s2, na.rm=T)\n",
    "obs_F31<-mean((p3-p1)^2/((p3+p1)/2-p3*p1)-0.5/eff_s3-0.5/eff_s1, na.rm=T)\n",
    "c(obs_F21, obs_F32, obs_F31)"
   ]
  },
  {
   "cell_type": "code",
   "execution_count": 7,
   "id": "16cc99d5",
   "metadata": {},
   "outputs": [
    {
     "data": {
      "text/html": [
       "<ol class=list-inline>\n",
       "\t<li>28</li>\n",
       "\t<li>37</li>\n",
       "\t<li>42</li>\n",
       "</ol>\n"
      ],
      "text/latex": [
       "\\begin{enumerate*}\n",
       "\\item 28\n",
       "\\item 37\n",
       "\\item 42\n",
       "\\end{enumerate*}\n"
      ],
      "text/markdown": [
       "1. 28\n",
       "2. 37\n",
       "3. 42\n",
       "\n",
       "\n"
      ],
      "text/plain": [
       "[1] 28 37 42"
      ]
     },
     "metadata": {},
     "output_type": "display_data"
    },
    {
     "data": {
      "text/html": [
       "<ol class=list-inline>\n",
       "\t<li>'rainy'</li>\n",
       "\t<li>'dry'</li>\n",
       "\t<li>'rainy'</li>\n",
       "</ol>\n"
      ],
      "text/latex": [
       "\\begin{enumerate*}\n",
       "\\item 'rainy'\n",
       "\\item 'dry'\n",
       "\\item 'rainy'\n",
       "\\end{enumerate*}\n"
      ],
      "text/markdown": [
       "1. 'rainy'\n",
       "2. 'dry'\n",
       "3. 'rainy'\n",
       "\n",
       "\n"
      ],
      "text/plain": [
       "[1] \"rainy\" \"dry\"   \"rainy\""
      ]
     },
     "metadata": {},
     "output_type": "display_data"
    },
    {
     "data": {
      "text/html": [
       "<ol class=list-inline>\n",
       "\t<li>8</li>\n",
       "\t<li>5</li>\n",
       "\t<li>10</li>\n",
       "</ol>\n"
      ],
      "text/latex": [
       "\\begin{enumerate*}\n",
       "\\item 8\n",
       "\\item 5\n",
       "\\item 10\n",
       "\\end{enumerate*}\n"
      ],
      "text/markdown": [
       "1. 8\n",
       "2. 5\n",
       "3. 10\n",
       "\n",
       "\n"
      ],
      "text/plain": [
       "[1]  8  5 10"
      ]
     },
     "metadata": {},
     "output_type": "display_data"
    }
   ],
   "source": [
    "# NUMBER OF GENERATIONS (FOUR YEARS OF BURN IN = 48, START FROM 3RD GEN OF WET)\n",
    "t1<-t[1]+28\n",
    "t2<-t[2]+28\n",
    "t3<-t[3]+28\n",
    "c(t1, t2, t3)\n",
    "# CHECK MONTHS AND SEASONS\n",
    "temp<-quick_aestivation_sim_month(t_r=6, t_d=6)\n",
    "temp$season[c(t1, t2, t3)]\n",
    "temp$month[c(t1, t2, t3)]\n",
    "rm(temp)"
   ]
  },
  {
   "cell_type": "code",
   "execution_count": 8,
   "id": "dbc005b6",
   "metadata": {},
   "outputs": [
    {
     "data": {
      "text/html": [
       "<ol class=list-inline>\n",
       "\t<li>200000</li>\n",
       "\t<li>4</li>\n",
       "</ol>\n"
      ],
      "text/latex": [
       "\\begin{enumerate*}\n",
       "\\item 200000\n",
       "\\item 4\n",
       "\\end{enumerate*}\n"
      ],
      "text/markdown": [
       "1. 200000\n",
       "2. 4\n",
       "\n",
       "\n"
      ],
      "text/plain": [
       "[1] 200000      4"
      ]
     },
     "metadata": {},
     "output_type": "display_data"
    }
   ],
   "source": [
    "# ABC\n",
    "cl<-makeCluster(47)\n",
    "registerDoParallel(cl)\n",
    "result<-foreach(i=1:200, .combine='rbind', .packages='inline') %dopar%\n",
    "{\n",
    "    # BUILD cfunction\n",
    "    quick_aestivation_sim_c<-cfunction(sig=c(rep_N='array', denom_N='array', aes='array', \n",
    "                                         aes_return='array', N_a='numeric', K='integer'), \n",
    "                          body=body, includes=includes, \n",
    "                          language='C', convention='.Call')\n",
    "    # BEGIN ABC\n",
    "    k<-50000\n",
    "    out<-1000\n",
    "    prior_d<-round(runif(k, 10, 200))\n",
    "    prior_r<-round(runif(k, prior_d+2, 5000))\n",
    "    prior_a<-round(runif(k, 1, prior_r-prior_d))\n",
    "    temp_result<-matrix(nc=3, nr=k)\n",
    "    for (j in 1:k)\n",
    "    {\n",
    "        # SIM\n",
    "        temp<-quick_aestivation_sim2(N_r=prior_r[j], N_d=prior_d[j], N_a=prior_a[j], K=K)\n",
    "        # SAMPLING\n",
    "        x1<-rbinom(K, size=2*eff_s1, prob=temp[,t1])/(2*eff_s1)\n",
    "        x2<-rbinom(K, size=2*eff_s2, prob=temp[,t2])/(2*eff_s2)\n",
    "        x3<-rbinom(K, size=2*eff_s3, prob=temp[,t3])/(2*eff_s3)\n",
    "        # CALCULATE F\n",
    "        sim_F21<-mean((x2-x1)^2/((x1+x2)/2-x1*x2)-0.5/eff_s1-0.5/eff_s2, na.rm=T)\n",
    "        sim_F32<-mean((x3-x2)^2/((x3+x2)/2-x3*x2)-0.5/eff_s3-0.5/eff_s2, na.rm=T)\n",
    "        sim_F31<-mean((x3-x1)^2/((x3+x1)/2-x3*x1)-0.5/eff_s1-0.5/eff_s3, na.rm=T)\n",
    "        temp_result[j,]<-c(sim_F21, sim_F32, sim_F31)\n",
    "    }\n",
    "    # CALCULATE DISTANCE\n",
    "    distance<-sqrt((temp_result[,1]-obs_F21)^2+(temp_result[,2]-obs_F32)^2+(temp_result[,3]-obs_F31)^2)\n",
    "    temp<-order(distance)[1:out]\n",
    "    # SHORTLIST\n",
    "    return(cbind(prior_r[temp], prior_d[temp], prior_a[temp], distance[temp]))\n",
    "}\n",
    "stopCluster(cl)\n",
    "dim(result)"
   ]
  },
  {
   "cell_type": "code",
   "execution_count": 9,
   "id": "07a58247",
   "metadata": {},
   "outputs": [],
   "source": [
    "# SAVE ABC RESULTS\n",
    "save(obs_F21, obs_F32, obs_F31, K, t1, t2, t3, result, file='ABC_ex1_v2.RData')"
   ]
  },
  {
   "cell_type": "code",
   "execution_count": 10,
   "id": "0337e6a5",
   "metadata": {},
   "outputs": [],
   "source": [
    "load('ABC_ex1_v2.RData')"
   ]
  },
  {
   "cell_type": "code",
   "execution_count": 11,
   "id": "a96982ae",
   "metadata": {},
   "outputs": [
    {
     "data": {
      "text/html": [
       "0.0168733843156397"
      ],
      "text/latex": [
       "0.0168733843156397"
      ],
      "text/markdown": [
       "0.0168733843156397"
      ],
      "text/plain": [
       "[1] 0.01687338"
      ]
     },
     "metadata": {},
     "output_type": "display_data"
    }
   ],
   "source": [
    "# THEN CALCULATE ANOTHER ROUND OF DISTANCE\n",
    "temp<-order(result[,4])[1:1000]\n",
    "posterior_r<-result[temp,1]\n",
    "posterior_d<-result[temp,2]\n",
    "posterior_a<-result[temp,3]\n",
    "max(result[temp,4]) # EPSILON\n",
    "rm(temp)"
   ]
  },
  {
   "cell_type": "code",
   "execution_count": 12,
   "id": "8924d9eb",
   "metadata": {},
   "outputs": [
    {
     "data": {
      "image/png": "[encoded data removed]",
      "text/plain": [
       "Plot with title \"\""
      ]
     },
     "metadata": {},
     "output_type": "display_data"
    }
   ],
   "source": [
    "# PLOT POSTERIORS\n",
    "par(mfrow=c(2,2))\n",
    "hist(posterior_r, breaks=25, xlab=expression(italic(N['R'])), main='')\n",
    "hist(posterior_d, breaks=25, xlab=expression(italic(N['D'])), main='')\n",
    "hist(posterior_a, breaks=25, xlab=expression(italic(N['A'])), main='')\n",
    "hist(posterior_a/posterior_r, breaks=25, xlab=expression(italic(alpha)), main='')"
   ]
  },
  {
   "cell_type": "code",
   "execution_count": 13,
   "id": "b057f982",
   "metadata": {},
   "outputs": [
    {
     "data": {
      "text/html": [
       "<strong>png:</strong> 2"
      ],
      "text/latex": [
       "\\textbf{png:} 2"
      ],
      "text/markdown": [
       "**png:** 2"
      ],
      "text/plain": [
       "png \n",
       "  2 "
      ]
     },
     "metadata": {},
     "output_type": "display_data"
    }
   ],
   "source": [
    "# SAVE HIGH RES POSTERIOR PLOT\n",
    "png('fig3_v2.png', height=4800, width=4800, res=300)\n",
    "par(mfrow=c(2,2), cex=1.5, cex.lab=1.2, cex.axis=1.2, mar=c(5,5,5,5), lwd=3)\n",
    "hist(posterior_r, breaks=25, xlab=expression(italic(N['R'])), main='')\n",
    "hist(posterior_d, breaks=25, xlab=expression(italic(N['D'])), main='')\n",
    "hist(posterior_a, breaks=25, xlab=expression(italic(N['A'])), main='')\n",
    "hist(posterior_a/posterior_r, breaks=25, xlab=expression(italic(alpha)), main='')\n",
    "dev.off()"
   ]
  },
  {
   "cell_type": "code",
   "execution_count": 14,
   "id": "2dd2128a",
   "metadata": {},
   "outputs": [
    {
     "data": {
      "text/html": [
       "216"
      ],
      "text/latex": [
       "216"
      ],
      "text/markdown": [
       "216"
      ],
      "text/plain": [
       "[1] 216"
      ]
     },
     "metadata": {},
     "output_type": "display_data"
    },
    {
     "data": {
      "text/html": [
       "<dl class=dl-horizontal>\n",
       "\t<dt>2.5%</dt>\n",
       "\t\t<dd>131</dd>\n",
       "\t<dt>5%</dt>\n",
       "\t\t<dd>140</dd>\n",
       "\t<dt>95%</dt>\n",
       "\t\t<dd>347.2</dd>\n",
       "\t<dt>97.5%</dt>\n",
       "\t\t<dd>387.025</dd>\n",
       "</dl>\n"
      ],
      "text/latex": [
       "\\begin{description*}\n",
       "\\item[2.5\\textbackslash{}\\%] 131\n",
       "\\item[5\\textbackslash{}\\%] 140\n",
       "\\item[95\\textbackslash{}\\%] 347.2\n",
       "\\item[97.5\\textbackslash{}\\%] 387.025\n",
       "\\end{description*}\n"
      ],
      "text/markdown": [
       "2.5%\n",
       ":   1315%\n",
       ":   14095%\n",
       ":   347.297.5%\n",
       ":   387.025\n",
       "\n"
      ],
      "text/plain": [
       "   2.5%      5%     95%   97.5% \n",
       "131.000 140.000 347.200 387.025 "
      ]
     },
     "metadata": {},
     "output_type": "display_data"
    },
    {
     "data": {
      "text/html": [
       "37"
      ],
      "text/latex": [
       "37"
      ],
      "text/markdown": [
       "37"
      ],
      "text/plain": [
       "[1] 37"
      ]
     },
     "metadata": {},
     "output_type": "display_data"
    },
    {
     "data": {
      "text/html": [
       "<dl class=dl-horizontal>\n",
       "\t<dt>2.5%</dt>\n",
       "\t\t<dd>32</dd>\n",
       "\t<dt>5%</dt>\n",
       "\t\t<dd>32</dd>\n",
       "\t<dt>95%</dt>\n",
       "\t\t<dd>44</dd>\n",
       "\t<dt>97.5%</dt>\n",
       "\t\t<dd>45</dd>\n",
       "</dl>\n"
      ],
      "text/latex": [
       "\\begin{description*}\n",
       "\\item[2.5\\textbackslash{}\\%] 32\n",
       "\\item[5\\textbackslash{}\\%] 32\n",
       "\\item[95\\textbackslash{}\\%] 44\n",
       "\\item[97.5\\textbackslash{}\\%] 45\n",
       "\\end{description*}\n"
      ],
      "text/markdown": [
       "2.5%\n",
       ":   325%\n",
       ":   3295%\n",
       ":   4497.5%\n",
       ":   45\n",
       "\n"
      ],
      "text/plain": [
       " 2.5%    5%   95% 97.5% \n",
       "   32    32    44    45 "
      ]
     },
     "metadata": {},
     "output_type": "display_data"
    },
    {
     "data": {
      "text/html": [
       "167"
      ],
      "text/latex": [
       "167"
      ],
      "text/markdown": [
       "167"
      ],
      "text/plain": [
       "[1] 167"
      ]
     },
     "metadata": {},
     "output_type": "display_data"
    },
    {
     "data": {
      "text/html": [
       "<dl class=dl-horizontal>\n",
       "\t<dt>2.5%</dt>\n",
       "\t\t<dd>91</dd>\n",
       "\t<dt>5%</dt>\n",
       "\t\t<dd>98</dd>\n",
       "\t<dt>95%</dt>\n",
       "\t\t<dd>295.1</dd>\n",
       "\t<dt>97.5%</dt>\n",
       "\t\t<dd>325.05</dd>\n",
       "</dl>\n"
      ],
      "text/latex": [
       "\\begin{description*}\n",
       "\\item[2.5\\textbackslash{}\\%] 91\n",
       "\\item[5\\textbackslash{}\\%] 98\n",
       "\\item[95\\textbackslash{}\\%] 295.1\n",
       "\\item[97.5\\textbackslash{}\\%] 325.05\n",
       "\\end{description*}\n"
      ],
      "text/markdown": [
       "2.5%\n",
       ":   915%\n",
       ":   9895%\n",
       ":   295.197.5%\n",
       ":   325.05\n",
       "\n"
      ],
      "text/plain": [
       "  2.5%     5%    95%  97.5% \n",
       " 91.00  98.00 295.10 325.05 "
      ]
     },
     "metadata": {},
     "output_type": "display_data"
    },
    {
     "data": {
      "text/html": [
       "0.781667541863586"
      ],
      "text/latex": [
       "0.781667541863586"
      ],
      "text/markdown": [
       "0.781667541863586"
      ],
      "text/plain": [
       "[1] 0.7816675"
      ]
     },
     "metadata": {},
     "output_type": "display_data"
    },
    {
     "data": {
      "text/html": [
       "<dl class=dl-horizontal>\n",
       "\t<dt>2.5%</dt>\n",
       "\t\t<dd>0.669164388243336</dd>\n",
       "\t<dt>5%</dt>\n",
       "\t\t<dd>0.688223529411765</dd>\n",
       "\t<dt>95%</dt>\n",
       "\t\t<dd>0.861839430894309</dd>\n",
       "\t<dt>97.5%</dt>\n",
       "\t\t<dd>0.874270569471808</dd>\n",
       "</dl>\n"
      ],
      "text/latex": [
       "\\begin{description*}\n",
       "\\item[2.5\\textbackslash{}\\%] 0.669164388243336\n",
       "\\item[5\\textbackslash{}\\%] 0.688223529411765\n",
       "\\item[95\\textbackslash{}\\%] 0.861839430894309\n",
       "\\item[97.5\\textbackslash{}\\%] 0.874270569471808\n",
       "\\end{description*}\n"
      ],
      "text/markdown": [
       "2.5%\n",
       ":   0.6691643882433365%\n",
       ":   0.68822352941176595%\n",
       ":   0.86183943089430997.5%\n",
       ":   0.874270569471808\n",
       "\n"
      ],
      "text/plain": [
       "     2.5%        5%       95%     97.5% \n",
       "0.6691644 0.6882235 0.8618394 0.8742706 "
      ]
     },
     "metadata": {},
     "output_type": "display_data"
    }
   ],
   "source": [
    "# POSTERIOR STATS\n",
    "median(posterior_r)\n",
    "quantile(posterior_r, c(0.025, 0.05, 0.95, 0.975))\n",
    "median(posterior_d)\n",
    "quantile(posterior_d, c(0.025, 0.05, 0.95, 0.975))\n",
    "median(posterior_a)\n",
    "quantile(posterior_a, c(0.025, 0.05, 0.95, 0.975))\n",
    "median(posterior_a/posterior_r)\n",
    "quantile(posterior_a/posterior_r, c(0.025, 0.05, 0.95, 0.975))"
   ]
  },
  {
   "cell_type": "code",
   "execution_count": 15,
   "id": "c297e8a6",
   "metadata": {},
   "outputs": [
    {
     "data": {
      "image/png": "[encoded data removed]",
      "text/plain": [
       "plot without title"
      ]
     },
     "metadata": {},
     "output_type": "display_data"
    }
   ],
   "source": [
    "par(mfrow=c(2,2))\n",
    "plot(posterior_r, posterior_d)\n",
    "plot(posterior_r, posterior_a)\n",
    "plot(posterior_a, posterior_d)"
   ]
  },
  {
   "cell_type": "markdown",
   "id": "6d6de25f",
   "metadata": {},
   "source": [
    "#### Example 2\n",
    "Below is another example, with Th09Oc, Th10Ap, Th10Ju. I found the code above is slow. Although the ABC is run across multiple cores, it takes a lot of time to combine and reutn all 1 million sets of summary statistics. Below is another implementation, that I run 1000 batches of 1000 simulations, and return the first 20 from each batch. Then I calculate another round of distances, and choose the best 1000 as my posterior. The acceptance rate remains at 0.1%, but I do no need to deal with 1 millions elements at the final - many are discarded along the way. \n",
    "\n",
    "Another change I make is the prior. This time I sample the prior of the dry size first, then use it as the lower bound for my wet size. This makes the two priors more \"uniform\". "
   ]
  },
  {
   "cell_type": "code",
   "execution_count": 17,
   "id": "5daebcfd",
   "metadata": {},
   "outputs": [
    {
     "data": {
      "text/html": [
       "536"
      ],
      "text/latex": [
       "536"
      ],
      "text/markdown": [
       "536"
      ],
      "text/plain": [
       "[1] 536"
      ]
     },
     "metadata": {},
     "output_type": "display_data"
    },
    {
     "data": {
      "text/html": [
       "<ol class=list-inline>\n",
       "\t<li>0.00714176628824749</li>\n",
       "\t<li>0.00239556865329218</li>\n",
       "\t<li>0.00356340060738201</li>\n",
       "</ol>\n"
      ],
      "text/latex": [
       "\\begin{enumerate*}\n",
       "\\item 0.00714176628824749\n",
       "\\item 0.00239556865329218\n",
       "\\item 0.00356340060738201\n",
       "\\end{enumerate*}\n"
      ],
      "text/markdown": [
       "1. 0.00714176628824749\n",
       "2. 0.00239556865329218\n",
       "3. 0.00356340060738201\n",
       "\n",
       "\n"
      ],
      "text/plain": [
       "[1] 0.007141766 0.002395569 0.003563401"
      ]
     },
     "metadata": {},
     "output_type": "display_data"
    }
   ],
   "source": [
    "# ANOTHER EXAMPLE. Th09Oc, Th10Ap, Th10Ju\n",
    "# THE OBSERVED F\n",
    "# EXTRACT THE THREE ALLELE FREQ\n",
    "p1<-all_allele_freq[3,]\n",
    "p2<-all_allele_freq[5,]\n",
    "p3<-all_allele_freq[6,]\n",
    "# THE THREE EFFECTIVE SAMPLE SIZE PER LOCUS\n",
    "eff_s1<-all_eff_s[3,]\n",
    "eff_s2<-all_eff_s[5,]\n",
    "eff_s3<-all_eff_s[6,]\n",
    "# OVERALL ALLELE FREQ, WEIGHTED AVERAGE\n",
    "p<-(p1*eff_s1+p2*eff_s2+p3*eff_s3)/(eff_s1+eff_s2+eff_s3)\n",
    "# MAF CUTOFF\n",
    "# MAF CUTOFF, POOLED, AND NOT FIXED/EXTINCT\n",
    "temp<-(p>=0.05) & (p<=0.95) & (p1>0) & (p1<1) & (p2>0) & (p2<1) & (p3>0) & (p3<1)\n",
    "#temp<-(p>=0.05) & (p<=0.95)\n",
    "K<-sum(temp)\n",
    "K\n",
    "# SUBSET\n",
    "p1<-p1[temp]\n",
    "p2<-p2[temp]\n",
    "p3<-p3[temp]\n",
    "eff_s1<-eff_s1[temp]\n",
    "eff_s2<-eff_s2[temp]\n",
    "eff_s3<-eff_s3[temp]\n",
    "# THE F STATISTIC\n",
    "obs_F21<-mean((p1-p2)^2/((p1+p2)/2-p1*p2)-0.5/eff_s1-0.5/eff_s2, na.rm=T)\n",
    "obs_F32<-mean((p3-p2)^2/((p3+p2)/2-p3*p2)-0.5/eff_s3-0.5/eff_s2, na.rm=T)\n",
    "obs_F31<-mean((p3-p1)^2/((p3+p1)/2-p3*p1)-0.5/eff_s3-0.5/eff_s1, na.rm=T)\n",
    "c(obs_F21, obs_F32, obs_F31)"
   ]
  },
  {
   "cell_type": "code",
   "execution_count": 18,
   "id": "abb98dad",
   "metadata": {},
   "outputs": [
    {
     "data": {
      "text/html": [
       "<ol class=list-inline>\n",
       "\t<li>42</li>\n",
       "\t<li>48</li>\n",
       "\t<li>50</li>\n",
       "</ol>\n"
      ],
      "text/latex": [
       "\\begin{enumerate*}\n",
       "\\item 42\n",
       "\\item 48\n",
       "\\item 50\n",
       "\\end{enumerate*}\n"
      ],
      "text/markdown": [
       "1. 42\n",
       "2. 48\n",
       "3. 50\n",
       "\n",
       "\n"
      ],
      "text/plain": [
       "[1] 42 48 50"
      ]
     },
     "metadata": {},
     "output_type": "display_data"
    },
    {
     "data": {
      "text/html": [
       "<ol class=list-inline>\n",
       "\t<li>'rainy'</li>\n",
       "\t<li>'dry'</li>\n",
       "\t<li>'rainy'</li>\n",
       "</ol>\n"
      ],
      "text/latex": [
       "\\begin{enumerate*}\n",
       "\\item 'rainy'\n",
       "\\item 'dry'\n",
       "\\item 'rainy'\n",
       "\\end{enumerate*}\n"
      ],
      "text/markdown": [
       "1. 'rainy'\n",
       "2. 'dry'\n",
       "3. 'rainy'\n",
       "\n",
       "\n"
      ],
      "text/plain": [
       "[1] \"rainy\" \"dry\"   \"rainy\""
      ]
     },
     "metadata": {},
     "output_type": "display_data"
    },
    {
     "data": {
      "text/html": [
       "<ol class=list-inline>\n",
       "\t<li>10</li>\n",
       "\t<li>4</li>\n",
       "\t<li>6</li>\n",
       "</ol>\n"
      ],
      "text/latex": [
       "\\begin{enumerate*}\n",
       "\\item 10\n",
       "\\item 4\n",
       "\\item 6\n",
       "\\end{enumerate*}\n"
      ],
      "text/markdown": [
       "1. 10\n",
       "2. 4\n",
       "3. 6\n",
       "\n",
       "\n"
      ],
      "text/plain": [
       "[1] 10  4  6"
      ]
     },
     "metadata": {},
     "output_type": "display_data"
    }
   ],
   "source": [
    "# NUMBER OF GENERATIONS (FOUR YEARS OF BURN IN = 48, START FROM 3RD GEN OF WET)\n",
    "t1<-t[3]+28\n",
    "t2<-t[5]+28\n",
    "t3<-t[6]+28\n",
    "c(t1, t2, t3)\n",
    "# CHECK MONTHS AND SEASONS\n",
    "temp<-quick_aestivation_sim_month(t_r=6, t_d=6)\n",
    "temp$season[c(t1, t2, t3)]\n",
    "temp$month[c(t1, t2, t3)]\n",
    "rm(temp)"
   ]
  },
  {
   "cell_type": "code",
   "execution_count": 40,
   "id": "62b3e24f",
   "metadata": {},
   "outputs": [
    {
     "data": {
      "text/html": [
       "<ol class=list-inline>\n",
       "\t<li>200000</li>\n",
       "\t<li>4</li>\n",
       "</ol>\n"
      ],
      "text/latex": [
       "\\begin{enumerate*}\n",
       "\\item 200000\n",
       "\\item 4\n",
       "\\end{enumerate*}\n"
      ],
      "text/markdown": [
       "1. 200000\n",
       "2. 4\n",
       "\n",
       "\n"
      ],
      "text/plain": [
       "[1] 200000      4"
      ]
     },
     "metadata": {},
     "output_type": "display_data"
    }
   ],
   "source": [
    "# ABC\n",
    "cl<-makeCluster(46)\n",
    "registerDoParallel(cl)\n",
    "result<-foreach(i=1:200, .combine='rbind', .packages='inline') %dopar%\n",
    "{\n",
    "    # BUILD cfunction\n",
    "    quick_aestivation_sim_c<-cfunction(sig=c(rep_N='array', denom_N='array', aes='array', \n",
    "                                         aes_return='array', N_a='numeric', K='integer'), \n",
    "                          body=body, includes=includes, \n",
    "                          language='C', convention='.Call')\n",
    "    k<-10000\n",
    "    out<-1000\n",
    "    prior_d<-round(runif(k, 10, 1000))\n",
    "    prior_r<-round(runif(k, prior_d+2, 50000))\n",
    "    prior_a<-round(runif(k, 1, prior_r-prior_d))\n",
    "    temp_result<-matrix(nc=3, nr=k)\n",
    "    for (j in 1:k)\n",
    "    {\n",
    "        # SIM\n",
    "        temp<-quick_aestivation_sim2(N_r=prior_r[j], N_d=prior_d[j], N_a=prior_a[j], K=K)\n",
    "        # SAMPLING\n",
    "        x1<-rbinom(K, size=2*eff_s1, prob=temp[,t1])/(2*eff_s1)\n",
    "        x2<-rbinom(K, size=2*eff_s2, prob=temp[,t2])/(2*eff_s2)\n",
    "        x3<-rbinom(K, size=2*eff_s3, prob=temp[,t3])/(2*eff_s3)\n",
    "        # CALCULATE F\n",
    "        sim_F21<-mean((x2-x1)^2/((x1+x2)/2-x1*x2)-0.5/eff_s1-0.5/eff_s2, na.rm=T)\n",
    "        sim_F32<-mean((x3-x2)^2/((x3+x2)/2-x3*x2)-0.5/eff_s3-0.5/eff_s2, na.rm=T)\n",
    "        sim_F31<-mean((x3-x1)^2/((x3+x1)/2-x3*x1)-0.5/eff_s1-0.5/eff_s3, na.rm=T)\n",
    "        temp_result[j,]<-c(sim_F21, sim_F32, sim_F31)\n",
    "    }\n",
    "    # CALCULATE DISTANCE\n",
    "    distance<-sqrt((temp_result[,1]-obs_F21)^2+(temp_result[,2]-obs_F32)^2+(temp_result[,3]-obs_F31)^2)\n",
    "    temp<-order(distance)[1:out]\n",
    "    # SHORTLIST\n",
    "    return(cbind(prior_r[temp], prior_d[temp], prior_a[temp], distance[temp]))\n",
    "}\n",
    "stopCluster(cl)\n",
    "dim(result)"
   ]
  },
  {
   "cell_type": "code",
   "execution_count": 41,
   "id": "4f08c995",
   "metadata": {},
   "outputs": [],
   "source": [
    "# SAVE ABC RESULTS\n",
    "save(obs_F21, obs_F32, obs_F31, K, t1, t2, t3, result, file='ABC_ex2_v2.RData')"
   ]
  },
  {
   "cell_type": "code",
   "execution_count": 42,
   "id": "29a7107c",
   "metadata": {},
   "outputs": [],
   "source": [
    "load('ABC_ex2_v2.RData')"
   ]
  },
  {
   "cell_type": "code",
   "execution_count": 43,
   "id": "19621983",
   "metadata": {},
   "outputs": [
    {
     "data": {
      "text/html": [
       "0.000461396234560308"
      ],
      "text/latex": [
       "0.000461396234560308"
      ],
      "text/markdown": [
       "0.000461396234560308"
      ],
      "text/plain": [
       "[1] 0.0004613962"
      ]
     },
     "metadata": {},
     "output_type": "display_data"
    }
   ],
   "source": [
    "# THEN CALCULATE ANOTHER ROUND OF DISTANCE\n",
    "temp<-order(result[,4])[1:1000]\n",
    "posterior_r<-result[temp,1]\n",
    "posterior_d<-result[temp,2]\n",
    "posterior_a<-result[temp,3]\n",
    "max(result[temp,4])\n",
    "rm(temp)"
   ]
  },
  {
   "cell_type": "code",
   "execution_count": 44,
   "id": "58c8c787",
   "metadata": {},
   "outputs": [
    {
     "data": {
      "image/png": "[encoded data removed]",
      "text/plain": [
       "Plot with title \"\""
      ]
     },
     "metadata": {},
     "output_type": "display_data"
    }
   ],
   "source": [
    "# PLOT POSTERIORS\n",
    "par(mfrow=c(2,2))\n",
    "hist(posterior_r, breaks=25, xlab=expression(italic(N['R'])), main='')\n",
    "hist(posterior_d, breaks=25, xlab=expression(italic(N['D'])), main='')\n",
    "hist(posterior_a, breaks=25, xlab=expression(italic(N['A'])), main='')\n",
    "hist(posterior_a/posterior_r, breaks=25, xlab=expression(italic(alpha)), main='')"
   ]
  },
  {
   "cell_type": "code",
   "execution_count": 45,
   "id": "ed1fcbcb",
   "metadata": {},
   "outputs": [
    {
     "data": {
      "text/html": [
       "<strong>png:</strong> 2"
      ],
      "text/latex": [
       "\\textbf{png:} 2"
      ],
      "text/markdown": [
       "**png:** 2"
      ],
      "text/plain": [
       "png \n",
       "  2 "
      ]
     },
     "metadata": {},
     "output_type": "display_data"
    }
   ],
   "source": [
    "# SAVE HIGH RES POSTERIOR PLOT\n",
    "png('fig4_v2.png', height=4800, width=4800, res=300)\n",
    "par(mfrow=c(2,2), cex=1.5, cex.lab=1.2, cex.axis=1.2, mar=c(5,5,5,5), lwd=3)\n",
    "hist(posterior_r, breaks=25, xlab=expression(italic(N['R'])), main='')\n",
    "hist(posterior_d, breaks=25, xlab=expression(italic(N['D'])), main='')\n",
    "hist(posterior_a, breaks=25, xlab=expression(italic(N['A'])), main='')\n",
    "hist(posterior_a/posterior_r, breaks=25, xlab=expression(italic(alpha)), main='')\n",
    "dev.off()"
   ]
  },
  {
   "cell_type": "code",
   "execution_count": 27,
   "id": "12cd232f",
   "metadata": {},
   "outputs": [
    {
     "data": {
      "text/html": [
       "270"
      ],
      "text/latex": [
       "270"
      ],
      "text/markdown": [
       "270"
      ],
      "text/plain": [
       "[1] 270"
      ]
     },
     "metadata": {},
     "output_type": "display_data"
    },
    {
     "data": {
      "text/html": [
       "<dl class=dl-horizontal>\n",
       "\t<dt>2.5%</dt>\n",
       "\t\t<dd>210.975</dd>\n",
       "\t<dt>5%</dt>\n",
       "\t\t<dd>218.95</dd>\n",
       "\t<dt>95%</dt>\n",
       "\t\t<dd>297</dd>\n",
       "\t<dt>97.5%</dt>\n",
       "\t\t<dd>299</dd>\n",
       "</dl>\n"
      ],
      "text/latex": [
       "\\begin{description*}\n",
       "\\item[2.5\\textbackslash{}\\%] 210.975\n",
       "\\item[5\\textbackslash{}\\%] 218.95\n",
       "\\item[95\\textbackslash{}\\%] 297\n",
       "\\item[97.5\\textbackslash{}\\%] 299\n",
       "\\end{description*}\n"
      ],
      "text/markdown": [
       "2.5%\n",
       ":   210.9755%\n",
       ":   218.9595%\n",
       ":   29797.5%\n",
       ":   299\n",
       "\n"
      ],
      "text/plain": [
       "   2.5%      5%     95%   97.5% \n",
       "210.975 218.950 297.000 299.000 "
      ]
     },
     "metadata": {},
     "output_type": "display_data"
    },
    {
     "data": {
      "text/html": [
       "0.391486024295486"
      ],
      "text/latex": [
       "0.391486024295486"
      ],
      "text/markdown": [
       "0.391486024295486"
      ],
      "text/plain": [
       "[1] 0.391486"
      ]
     },
     "metadata": {},
     "output_type": "display_data"
    },
    {
     "data": {
      "text/html": [
       "<dl class=dl-horizontal>\n",
       "\t<dt>2.5%</dt>\n",
       "\t\t<dd>0.189261611470477</dd>\n",
       "\t<dt>5%</dt>\n",
       "\t\t<dd>0.221243303538065</dd>\n",
       "\t<dt>95%</dt>\n",
       "\t\t<dd>0.567968888568709</dd>\n",
       "\t<dt>97.5%</dt>\n",
       "\t\t<dd>0.601934845766615</dd>\n",
       "</dl>\n"
      ],
      "text/latex": [
       "\\begin{description*}\n",
       "\\item[2.5\\textbackslash{}\\%] 0.189261611470477\n",
       "\\item[5\\textbackslash{}\\%] 0.221243303538065\n",
       "\\item[95\\textbackslash{}\\%] 0.567968888568709\n",
       "\\item[97.5\\textbackslash{}\\%] 0.601934845766615\n",
       "\\end{description*}\n"
      ],
      "text/markdown": [
       "2.5%\n",
       ":   0.1892616114704775%\n",
       ":   0.22124330353806595%\n",
       ":   0.56796888856870997.5%\n",
       ":   0.601934845766615\n",
       "\n"
      ],
      "text/plain": [
       "     2.5%        5%       95%     97.5% \n",
       "0.1892616 0.2212433 0.5679689 0.6019348 "
      ]
     },
     "metadata": {},
     "output_type": "display_data"
    }
   ],
   "source": [
    "# POSTERIOR STATS\n",
    "median(posterior_d)\n",
    "quantile(posterior_d, c(0.025, 0.05, 0.95, 0.975))\n",
    "median(posterior_a/posterior_r)\n",
    "quantile(posterior_a/posterior_r, c(0.025, 0.05, 0.95, 0.975))"
   ]
  },
  {
   "cell_type": "code",
   "execution_count": 28,
   "id": "ebb9e617",
   "metadata": {},
   "outputs": [
    {
     "data": {
      "image/png": "[encoded data removed]",
      "text/plain": [
       "plot without title"
      ]
     },
     "metadata": {},
     "output_type": "display_data"
    }
   ],
   "source": [
    "par(mfrow=c(2,2))\n",
    "plot(posterior_r, posterior_d)\n",
    "plot(posterior_r, posterior_a)\n",
    "plot(posterior_a, posterior_d)"
   ]
  },
  {
   "cell_type": "markdown",
   "id": "c7a81323",
   "metadata": {},
   "source": [
    "#### Example 3\n",
    "Next I want to try another one with little evidence of aestivation (F-ratio close to 1). For example, (Th09Ma, Th10Ap, Th10Au). We perform exactly the same ABC and hope that the posterior of aestivating size is concentrated in small values. "
   ]
  },
  {
   "cell_type": "code",
   "execution_count": 6,
   "id": "1fb38ac1",
   "metadata": {},
   "outputs": [
    {
     "data": {
      "text/html": [
       "433"
      ],
      "text/latex": [
       "433"
      ],
      "text/markdown": [
       "433"
      ],
      "text/plain": [
       "[1] 433"
      ]
     },
     "metadata": {},
     "output_type": "display_data"
    },
    {
     "data": {
      "text/html": [
       "<ol class=list-inline>\n",
       "\t<li>37</li>\n",
       "\t<li>48</li>\n",
       "\t<li>52</li>\n",
       "</ol>\n"
      ],
      "text/latex": [
       "\\begin{enumerate*}\n",
       "\\item 37\n",
       "\\item 48\n",
       "\\item 52\n",
       "\\end{enumerate*}\n"
      ],
      "text/markdown": [
       "1. 37\n",
       "2. 48\n",
       "3. 52\n",
       "\n",
       "\n"
      ],
      "text/plain": [
       "[1] 37 48 52"
      ]
     },
     "metadata": {},
     "output_type": "display_data"
    }
   ],
   "source": [
    "# TRY TO RUN A NO AESTIVATION ONE (F-RATIO CLOSE TO 1)\n",
    "# Th09Ma, Th10Ap, Th10Au\n",
    "# THE OBSERVED F\n",
    "obs_F21<-0.068894\n",
    "obs_F32<-0.003371\n",
    "obs_F31<-0.066309\n",
    "\n",
    "# LOCI\n",
    "K<-433\n",
    "# EXTRACT ALLELE FREQ\n",
    "p1<-all_allele_freq[2,]\n",
    "p2<-all_allele_freq[5,]\n",
    "p3<-all_allele_freq[7,]\n",
    "temp<-(p1>=0.05) & (p1<=0.95) & (p2>=0.05) & (p2<=0.95) & (p3>=0.05) & (p3<=0.95)\n",
    "sum(temp)\n",
    "# EFF SAMPLE SIZE PER LOCUS\n",
    "eff_s1<-all_eff_s[2, temp]\n",
    "eff_s2<-all_eff_s[5, temp]\n",
    "eff_s3<-all_eff_s[7, temp]\n",
    "# NUMBER OF GENERATIONS (FOUR YEARS OF BURN IN = 48, START FROM 3RD GEN OF WET)\n",
    "t1<-t[2]+28\n",
    "t2<-t[5]+28\n",
    "t3<-t[7]+28\n",
    "c(t1, t2, t3)"
   ]
  },
  {
   "cell_type": "code",
   "execution_count": 7,
   "id": "e53ed888",
   "metadata": {},
   "outputs": [
    {
     "data": {
      "text/html": [
       "<ol class=list-inline>\n",
       "\t<li>'dry'</li>\n",
       "\t<li>'dry'</li>\n",
       "\t<li>'rainy'</li>\n",
       "</ol>\n"
      ],
      "text/latex": [
       "\\begin{enumerate*}\n",
       "\\item 'dry'\n",
       "\\item 'dry'\n",
       "\\item 'rainy'\n",
       "\\end{enumerate*}\n"
      ],
      "text/markdown": [
       "1. 'dry'\n",
       "2. 'dry'\n",
       "3. 'rainy'\n",
       "\n",
       "\n"
      ],
      "text/plain": [
       "[1] \"dry\"   \"dry\"   \"rainy\""
      ]
     },
     "metadata": {},
     "output_type": "display_data"
    },
    {
     "data": {
      "text/html": [
       "<ol class=list-inline>\n",
       "\t<li>5</li>\n",
       "\t<li>4</li>\n",
       "\t<li>8</li>\n",
       "</ol>\n"
      ],
      "text/latex": [
       "\\begin{enumerate*}\n",
       "\\item 5\n",
       "\\item 4\n",
       "\\item 8\n",
       "\\end{enumerate*}\n"
      ],
      "text/markdown": [
       "1. 5\n",
       "2. 4\n",
       "3. 8\n",
       "\n",
       "\n"
      ],
      "text/plain": [
       "[1] 5 4 8"
      ]
     },
     "metadata": {},
     "output_type": "display_data"
    }
   ],
   "source": [
    "# CHECK MONTHS AND SEASONS\n",
    "temp<-quick_aestivation_sim(N_r=1000, N_d=500, N_a=100, \n",
    "                            t_r=5, t_d=7, K=K)\n",
    "temp$season[c(t1, t2, t3)]\n",
    "temp$month[c(t1, t2, t3)]\n",
    "rm(temp)"
   ]
  },
  {
   "cell_type": "code",
   "execution_count": 8,
   "id": "2c8b57df",
   "metadata": {},
   "outputs": [
    {
     "data": {
      "text/html": [
       "<ol class=list-inline>\n",
       "\t<li>200000</li>\n",
       "\t<li>4</li>\n",
       "</ol>\n"
      ],
      "text/latex": [
       "\\begin{enumerate*}\n",
       "\\item 200000\n",
       "\\item 4\n",
       "\\end{enumerate*}\n"
      ],
      "text/markdown": [
       "1. 200000\n",
       "2. 4\n",
       "\n",
       "\n"
      ],
      "text/plain": [
       "[1] 200000      4"
      ]
     },
     "metadata": {},
     "output_type": "display_data"
    }
   ],
   "source": [
    "# ABC\n",
    "cl<-makeCluster(46)\n",
    "registerDoParallel(cl)\n",
    "result<-foreach(i=1:200, .combine='rbind', .packages='inline') %dopar%\n",
    "{\n",
    "    # BUILD cfunction\n",
    "    quick_aestivation_sim_c<-cfunction(sig=c(rep_N='array', denom_N='array', aes='array', \n",
    "                                         aes_return='array', N_a='numeric', K='integer'), \n",
    "                          body=body, includes=includes, \n",
    "                          language='C', convention='.Call')\n",
    "    k<-100000\n",
    "    out<-1000\n",
    "    prior_d<-round(runif(k, 10, 300))\n",
    "    prior_r<-round(runif(k, prior_d+2, 20000))\n",
    "    prior_a<-round(runif(k, 1, prior_r-prior_d))\n",
    "    temp_result<-matrix(nc=3, nr=k)\n",
    "    for (j in 1:k)\n",
    "    {\n",
    "        # SIM\n",
    "        temp<-quick_aestivation_sim2(N_r=prior_r[j], N_d=prior_d[j], N_a=prior_a[j], \n",
    "                                    t_r=5, t_d=7, K=K)\n",
    "        # SAMPLING\n",
    "        x1<-rbinom(K, size=2*eff_s1, prob=temp[,t1])/(2*eff_s1)\n",
    "        x2<-rbinom(K, size=2*eff_s2, prob=temp[,t2])/(2*eff_s2)\n",
    "        x3<-rbinom(K, size=2*eff_s3, prob=temp[,t3])/(2*eff_s3)\n",
    "        # CALCULATE F\n",
    "        sim_F21<-mean((x2-x1)^2/((x1+x2)/2-x1*x2)-0.5/eff_s1-0.5/eff_s2, na.rm=T)\n",
    "        sim_F32<-mean((x3-x2)^2/((x3+x2)/2-x3*x2)-0.5/eff_s3-0.5/eff_s2, na.rm=T)\n",
    "        sim_F31<-mean((x3-x1)^2/((x3+x1)/2-x3*x1)-0.5/eff_s1-0.5/eff_s3, na.rm=T)\n",
    "        temp_result[j,]<-c(sim_F21, sim_F32, sim_F31)\n",
    "    }\n",
    "    # CALCULATE DISTANCE\n",
    "    distance<-sqrt((temp_result[,1]-obs_F21)^2+(temp_result[,2]-obs_F32)^2+(temp_result[,3]-obs_F31)^2)\n",
    "    temp<-order(distance)[1:out]\n",
    "    # SHORTLIST\n",
    "    return(cbind(prior_r[temp], prior_d[temp], prior_a[temp], distance[temp]))\n",
    "}\n",
    "stopCluster(cl)\n",
    "dim(result)"
   ]
  },
  {
   "cell_type": "code",
   "execution_count": 9,
   "id": "ee935483",
   "metadata": {},
   "outputs": [],
   "source": [
    "# SAVE ABC RESULTS\n",
    "save(obs_F21, obs_F32, obs_F31, K, t1, t2, t3, result, file='ABC_ex3.RData')"
   ]
  },
  {
   "cell_type": "code",
   "execution_count": 27,
   "id": "36530186",
   "metadata": {},
   "outputs": [],
   "source": [
    "load('ABC_ex3.RData')"
   ]
  },
  {
   "cell_type": "code",
   "execution_count": 28,
   "id": "b8ac6fb1",
   "metadata": {},
   "outputs": [
    {
     "data": {
      "text/html": [
       "0.00477371418929085"
      ],
      "text/latex": [
       "0.00477371418929085"
      ],
      "text/markdown": [
       "0.00477371418929085"
      ],
      "text/plain": [
       "[1] 0.004773714"
      ]
     },
     "metadata": {},
     "output_type": "display_data"
    }
   ],
   "source": [
    "# THEN CALCULATE ANOTHER ROUND OF DISTANCE\n",
    "temp<-order(result[,4])[1:1000]\n",
    "posterior_r<-result[temp,1]\n",
    "posterior_d<-result[temp,2]\n",
    "posterior_a<-result[temp,3]\n",
    "max(result[temp,4])\n",
    "rm(temp)"
   ]
  },
  {
   "cell_type": "code",
   "execution_count": 29,
   "id": "edc93260",
   "metadata": {},
   "outputs": [
    {
     "data": {
      "image/png": "[encoded data removed]",
      "text/plain": [
       "Plot with title \"Histogram of posterior_a/posterior_r\""
      ]
     },
     "metadata": {},
     "output_type": "display_data"
    }
   ],
   "source": [
    "par(mfrow=c(2,2))\n",
    "hist(posterior_r, breaks=20)\n",
    "hist(posterior_d, breaks=20)\n",
    "hist(posterior_a, breaks=20)\n",
    "hist(posterior_a/posterior_r, breaks=20)"
   ]
  },
  {
   "cell_type": "code",
   "execution_count": 13,
   "id": "f4def9fa",
   "metadata": {},
   "outputs": [
    {
     "data": {
      "image/png": "[encoded data removed]",
      "text/plain": [
       "plot without title"
      ]
     },
     "metadata": {},
     "output_type": "display_data"
    }
   ],
   "source": [
    "par(mfrow=c(2,2))\n",
    "plot(posterior_r, posterior_d)\n",
    "plot(posterior_r, posterior_a)\n",
    "plot(posterior_a, posterior_d)"
   ]
  },
  {
   "cell_type": "markdown",
   "id": "54d2dc13",
   "metadata": {},
   "source": [
    "#### Example 4 using simulated data"
   ]
  },
  {
   "cell_type": "code",
   "execution_count": 10,
   "id": "a437c74e",
   "metadata": {},
   "outputs": [
    {
     "data": {
      "text/html": [
       "<ol class=list-inline>\n",
       "\t<li>6</li>\n",
       "\t<li>12</li>\n",
       "\t<li>10</li>\n",
       "</ol>\n"
      ],
      "text/latex": [
       "\\begin{enumerate*}\n",
       "\\item 6\n",
       "\\item 12\n",
       "\\item 10\n",
       "\\end{enumerate*}\n"
      ],
      "text/markdown": [
       "1. 6\n",
       "2. 12\n",
       "3. 10\n",
       "\n",
       "\n"
      ],
      "text/plain": [
       "[1]  6 12 10"
      ]
     },
     "metadata": {},
     "output_type": "display_data"
    },
    {
     "data": {
      "text/html": [
       "<ol class=list-inline>\n",
       "\t<li>'rainy'</li>\n",
       "\t<li>'dry'</li>\n",
       "\t<li>'rainy'</li>\n",
       "</ol>\n"
      ],
      "text/latex": [
       "\\begin{enumerate*}\n",
       "\\item 'rainy'\n",
       "\\item 'dry'\n",
       "\\item 'rainy'\n",
       "\\end{enumerate*}\n"
      ],
      "text/markdown": [
       "1. 'rainy'\n",
       "2. 'dry'\n",
       "3. 'rainy'\n",
       "\n",
       "\n"
      ],
      "text/plain": [
       "[1] \"rainy\" \"dry\"   \"rainy\""
      ]
     },
     "metadata": {},
     "output_type": "display_data"
    },
    {
     "data": {
      "text/html": [
       "<ol class=list-inline>\n",
       "\t<li>0.0125294672464182</li>\n",
       "\t<li>0.0122180023019597</li>\n",
       "\t<li>0.0169279270115217</li>\n",
       "</ol>\n"
      ],
      "text/latex": [
       "\\begin{enumerate*}\n",
       "\\item 0.0125294672464182\n",
       "\\item 0.0122180023019597\n",
       "\\item 0.0169279270115217\n",
       "\\end{enumerate*}\n"
      ],
      "text/markdown": [
       "1. 0.0125294672464182\n",
       "2. 0.0122180023019597\n",
       "3. 0.0169279270115217\n",
       "\n",
       "\n"
      ],
      "text/plain": [
       "[1] 0.01252947 0.01221800 0.01692793"
      ]
     },
     "metadata": {},
     "output_type": "display_data"
    }
   ],
   "source": [
    "# SAMPLING SIZES AND TIME POINT\n",
    "eff_s1<-200; eff_s2<-200; eff_s3<-200\n",
    "t1<-26; t2<-26+6; t3<-26+16\n",
    "K<-1000\n",
    "# CHECK MONTHS\n",
    "m<-quick_aestivation_sim_month(t_r=5, t_d=7)\n",
    "m$month[c(t1, t2, t3)]\n",
    "m$season[c(t1, t2, t3)]\n",
    "# SIMULATE THE OBSERVED DATASET\n",
    "m<-quick_aestivation_sim(N_r=1000, N_d=100, N_a=400, t_r=5, t_d=7, years=4, K=K)\n",
    "# SAMPLEING AND OBSERVED F\n",
    "x1<-rbinom(K, size=2*eff_s1, prob=m[,t1])/(2*eff_s1)\n",
    "x2<-rbinom(K, size=2*eff_s2, prob=m[,t2])/(2*eff_s2)\n",
    "x3<-rbinom(K, size=2*eff_s3, prob=m[,t3])/(2*eff_s3)\n",
    "obs_F21<-mean((x2-x1)^2/((x1+x2)/2-x1*x2)-0.5/eff_s1-0.5/eff_s2, na.rm=T)\n",
    "obs_F32<-mean((x3-x2)^2/((x3+x2)/2-x3*x2)-0.5/eff_s3-0.5/eff_s2, na.rm=T)\n",
    "obs_F31<-mean((x3-x1)^2/((x3+x1)/2-x3*x1)-0.5/eff_s1-0.5/eff_s3, na.rm=T)\n",
    "# WHAT ARE THEY?\n",
    "c(obs_F21, obs_F32, obs_F31)\n",
    "rm(x1); rm(x2); rm(x3); rm(m); "
   ]
  },
  {
   "cell_type": "code",
   "execution_count": 20,
   "id": "3ecba4c6",
   "metadata": {},
   "outputs": [
    {
     "data": {
      "text/html": [
       "<ol class=list-inline>\n",
       "\t<li>50000</li>\n",
       "\t<li>4</li>\n",
       "</ol>\n"
      ],
      "text/latex": [
       "\\begin{enumerate*}\n",
       "\\item 50000\n",
       "\\item 4\n",
       "\\end{enumerate*}\n"
      ],
      "text/markdown": [
       "1. 50000\n",
       "2. 4\n",
       "\n",
       "\n"
      ],
      "text/plain": [
       "[1] 50000     4"
      ]
     },
     "metadata": {},
     "output_type": "display_data"
    }
   ],
   "source": [
    "# ABC\n",
    "cl<-makeCluster(30)\n",
    "registerDoParallel(cl)\n",
    "result<-foreach(i=1:100, .combine='rbind', .packages='inline') %dopar%\n",
    "{\n",
    "    setMKLthreads(1)\n",
    "    # BUILD cfunction\n",
    "    quick_aestivation_sim_c<-cfunction(sig=c(rep_N='array', denom_N='array', aes='array', \n",
    "                                         aes_return='array', N_a='numeric', K='integer'), \n",
    "                          body=body, includes=includes, \n",
    "                          language='C', convention='.Call')\n",
    "    k<-10000\n",
    "    out<-500\n",
    "    prior_d<-round(runif(k, 10, 300))\n",
    "    prior_r<-round(runif(k, prior_d+2, 5000))\n",
    "    prior_a<-round(runif(k, 1, prior_r-prior_d))\n",
    "    temp_result<-matrix(nc=3, nr=k)\n",
    "    for (j in 1:k)\n",
    "    {\n",
    "        # SIM\n",
    "        temp<-quick_aestivation_sim2(N_r=prior_r[j], N_d=prior_d[j], N_a=prior_a[j], \n",
    "                                    t_r=5, t_d=7, K=K)\n",
    "        # SAMPLING\n",
    "        x1<-rbinom(K, size=2*eff_s1, prob=temp[,t1])/(2*eff_s1)\n",
    "        x2<-rbinom(K, size=2*eff_s2, prob=temp[,t2])/(2*eff_s2)\n",
    "        x3<-rbinom(K, size=2*eff_s3, prob=temp[,t3])/(2*eff_s3)\n",
    "        # CALCULATE F\n",
    "        sim_F21<-mean((x2-x1)^2/((x1+x2)/2-x1*x2)-0.5/eff_s1-0.5/eff_s2, na.rm=T)\n",
    "        sim_F32<-mean((x3-x2)^2/((x3+x2)/2-x3*x2)-0.5/eff_s3-0.5/eff_s2, na.rm=T)\n",
    "        sim_F31<-mean((x3-x1)^2/((x3+x1)/2-x3*x1)-0.5/eff_s1-0.5/eff_s3, na.rm=T)\n",
    "        temp_result[j,]<-c(sim_F21, sim_F32, sim_F31)\n",
    "    }\n",
    "    # CALCULATE DISTANCE\n",
    "    distance<-sqrt((temp_result[,1]-obs_F21)^2+(temp_result[,2]-obs_F32)^2+(temp_result[,3]-obs_F31)^2)\n",
    "    temp<-order(distance)[1:out]\n",
    "    # SHORTLIST\n",
    "    return(cbind(prior_r[temp], prior_d[temp], prior_a[temp], distance[temp]))\n",
    "}\n",
    "stopCluster(cl)\n",
    "dim(result)"
   ]
  },
  {
   "cell_type": "code",
   "execution_count": 25,
   "id": "d9f4be4b",
   "metadata": {},
   "outputs": [],
   "source": [
    "# SAVE ABC RESULTS\n",
    "save(obs_F21, obs_F32, obs_F31, K, t1, t2, t3, result, file='ABC_ex4.RData')"
   ]
  },
  {
   "cell_type": "code",
   "execution_count": 21,
   "id": "1ac9403c",
   "metadata": {},
   "outputs": [
    {
     "data": {
      "text/html": [
       "0.111205563963353"
      ],
      "text/latex": [
       "0.111205563963353"
      ],
      "text/markdown": [
       "0.111205563963353"
      ],
      "text/plain": [
       "[1] 0.1112056"
      ]
     },
     "metadata": {},
     "output_type": "display_data"
    }
   ],
   "source": [
    "# THEN CALCULATE ANOTHER ROUND OF DISTANCE\n",
    "temp<-order(result[,4])[1:1000]\n",
    "posterior_r<-result[temp,1]\n",
    "posterior_d<-result[temp,2]\n",
    "posterior_a<-result[temp,3]\n",
    "max(result[temp,4])\n",
    "rm(temp)"
   ]
  },
  {
   "cell_type": "code",
   "execution_count": 22,
   "id": "a9edf4c4",
   "metadata": {},
   "outputs": [
    {
     "data": {
      "image/png": "[encoded data removed]",
      "text/plain": [
       "Plot with title \"Histogram of posterior_a/posterior_r\""
      ]
     },
     "metadata": {},
     "output_type": "display_data"
    }
   ],
   "source": [
    "par(mfrow=c(2,2))\n",
    "hist(posterior_r, breaks=20)\n",
    "hist(posterior_d, breaks=20)\n",
    "hist(posterior_a, breaks=20)\n",
    "hist(posterior_a/posterior_r, breaks=20)"
   ]
  },
  {
   "cell_type": "code",
   "execution_count": 23,
   "id": "69b5786f",
   "metadata": {},
   "outputs": [
    {
     "data": {
      "image/png": "[encoded data removed]",
      "text/plain": [
       "plot without title"
      ]
     },
     "metadata": {},
     "output_type": "display_data"
    }
   ],
   "source": [
    "plot(posterior_r, posterior_d)"
   ]
  },
  {
   "cell_type": "code",
   "execution_count": 24,
   "id": "72a74ac2",
   "metadata": {},
   "outputs": [
    {
     "data": {
      "image/png": "[encoded data removed]",
      "text/plain": [
       "Plot with title \"Histogram of result[, 4]\""
      ]
     },
     "metadata": {},
     "output_type": "display_data"
    }
   ],
   "source": [
    "hist(result[,4])"
   ]
  },
  {
   "cell_type": "markdown",
   "id": "8ab294eb",
   "metadata": {},
   "source": [
    "#### Example 5 no aestivation"
   ]
  },
  {
   "cell_type": "code",
   "execution_count": 6,
   "id": "b11a3b80",
   "metadata": {},
   "outputs": [
    {
     "data": {
      "text/html": [
       "<ol class=list-inline>\n",
       "\t<li>6</li>\n",
       "\t<li>12</li>\n",
       "\t<li>10</li>\n",
       "</ol>\n"
      ],
      "text/latex": [
       "\\begin{enumerate*}\n",
       "\\item 6\n",
       "\\item 12\n",
       "\\item 10\n",
       "\\end{enumerate*}\n"
      ],
      "text/markdown": [
       "1. 6\n",
       "2. 12\n",
       "3. 10\n",
       "\n",
       "\n"
      ],
      "text/plain": [
       "[1]  6 12 10"
      ]
     },
     "metadata": {},
     "output_type": "display_data"
    },
    {
     "data": {
      "text/html": [
       "<ol class=list-inline>\n",
       "\t<li>'rainy'</li>\n",
       "\t<li>'dry'</li>\n",
       "\t<li>'rainy'</li>\n",
       "</ol>\n"
      ],
      "text/latex": [
       "\\begin{enumerate*}\n",
       "\\item 'rainy'\n",
       "\\item 'dry'\n",
       "\\item 'rainy'\n",
       "\\end{enumerate*}\n"
      ],
      "text/markdown": [
       "1. 'rainy'\n",
       "2. 'dry'\n",
       "3. 'rainy'\n",
       "\n",
       "\n"
      ],
      "text/plain": [
       "[1] \"rainy\" \"dry\"   \"rainy\""
      ]
     },
     "metadata": {},
     "output_type": "display_data"
    },
    {
     "data": {
      "text/html": [
       "<ol class=list-inline>\n",
       "\t<li>0.0123070078257641</li>\n",
       "\t<li>0.0277852306746288</li>\n",
       "\t<li>0.0387247283916921</li>\n",
       "</ol>\n"
      ],
      "text/latex": [
       "\\begin{enumerate*}\n",
       "\\item 0.0123070078257641\n",
       "\\item 0.0277852306746288\n",
       "\\item 0.0387247283916921\n",
       "\\end{enumerate*}\n"
      ],
      "text/markdown": [
       "1. 0.0123070078257641\n",
       "2. 0.0277852306746288\n",
       "3. 0.0387247283916921\n",
       "\n",
       "\n"
      ],
      "text/plain": [
       "[1] 0.01230701 0.02778523 0.03872473"
      ]
     },
     "metadata": {},
     "output_type": "display_data"
    }
   ],
   "source": [
    "# SAMPLING SIZES AND TIME POINT\n",
    "eff_s1<-200; eff_s2<-200; eff_s3<-200\n",
    "t1<-26; t2<-26+6; t3<-26+16\n",
    "K<-1000\n",
    "# CHECK MONTHS\n",
    "m<-quick_aestivation_sim_month(t_r=5, t_d=7)\n",
    "m$month[c(t1, t2, t3)]\n",
    "m$season[c(t1, t2, t3)]\n",
    "# SIMULATE THE OBSERVED DATASET\n",
    "m<-quick_aestivation_sim(N_r=1000, N_d=100, N_a=0, t_r=5, t_d=7, years=4, K=K)\n",
    "# SAMPLEING AND OBSERVED F\n",
    "x1<-rbinom(K, size=2*eff_s1, prob=m[,t1])/(2*eff_s1)\n",
    "x2<-rbinom(K, size=2*eff_s2, prob=m[,t2])/(2*eff_s2)\n",
    "x3<-rbinom(K, size=2*eff_s3, prob=m[,t3])/(2*eff_s3)\n",
    "obs_F21<-mean((x2-x1)^2/((x1+x2)/2-x1*x2)-0.5/eff_s1-0.5/eff_s2, na.rm=T)\n",
    "obs_F32<-mean((x3-x2)^2/((x3+x2)/2-x3*x2)-0.5/eff_s3-0.5/eff_s2, na.rm=T)\n",
    "obs_F31<-mean((x3-x1)^2/((x3+x1)/2-x3*x1)-0.5/eff_s1-0.5/eff_s3, na.rm=T)\n",
    "# WHAT ARE THEY?\n",
    "c(obs_F21, obs_F32, obs_F31)\n",
    "rm(x1); rm(x2); rm(x3); rm(m);"
   ]
  },
  {
   "cell_type": "code",
   "execution_count": 13,
   "id": "7fcce40c",
   "metadata": {},
   "outputs": [
    {
     "data": {
      "text/html": [
       "<ol class=list-inline>\n",
       "\t<li>75000</li>\n",
       "\t<li>4</li>\n",
       "</ol>\n"
      ],
      "text/latex": [
       "\\begin{enumerate*}\n",
       "\\item 75000\n",
       "\\item 4\n",
       "\\end{enumerate*}\n"
      ],
      "text/markdown": [
       "1. 75000\n",
       "2. 4\n",
       "\n",
       "\n"
      ],
      "text/plain": [
       "[1] 75000     4"
      ]
     },
     "metadata": {},
     "output_type": "display_data"
    }
   ],
   "source": [
    "# ABC\n",
    "cl<-makeCluster(30)\n",
    "registerDoParallel(cl)\n",
    "result<-foreach(i=1:150, .combine='rbind', .packages='inline') %dopar%\n",
    "{\n",
    "    setMKLthreads(1)\n",
    "    # BUILD cfunction\n",
    "    quick_aestivation_sim_c<-cfunction(sig=c(rep_N='array', denom_N='array', aes='array', \n",
    "                                         aes_return='array', N_a='numeric', K='integer'), \n",
    "                          body=body, includes=includes, \n",
    "                          language='C', convention='.Call')\n",
    "    k<-10000\n",
    "    out<-500\n",
    "    prior_d<-round(runif(k, 10, 300))\n",
    "    prior_r<-round(runif(k, prior_d+2, 2000))\n",
    "    prior_a<-round(runif(k, 1, prior_r-prior_d))\n",
    "    temp_result<-matrix(nc=3, nr=k)\n",
    "    for (j in 1:k)\n",
    "    {\n",
    "        # SIM\n",
    "        temp<-quick_aestivation_sim2(N_r=prior_r[j], N_d=prior_d[j], N_a=prior_a[j], \n",
    "                                    t_r=5, t_d=7, K=K)\n",
    "        # SAMPLING\n",
    "        x1<-rbinom(K, size=2*eff_s1, prob=temp[,t1])/(2*eff_s1)\n",
    "        x2<-rbinom(K, size=2*eff_s2, prob=temp[,t2])/(2*eff_s2)\n",
    "        x3<-rbinom(K, size=2*eff_s3, prob=temp[,t3])/(2*eff_s3)\n",
    "        # CALCULATE F\n",
    "        sim_F21<-mean((x2-x1)^2/((x1+x2)/2-x1*x2)-0.5/eff_s1-0.5/eff_s2, na.rm=T)\n",
    "        sim_F32<-mean((x3-x2)^2/((x3+x2)/2-x3*x2)-0.5/eff_s3-0.5/eff_s2, na.rm=T)\n",
    "        sim_F31<-mean((x3-x1)^2/((x3+x1)/2-x3*x1)-0.5/eff_s1-0.5/eff_s3, na.rm=T)\n",
    "        temp_result[j,]<-c(sim_F21, sim_F32, sim_F31)\n",
    "    }\n",
    "    # CALCULATE DISTANCE\n",
    "    distance<-sqrt((temp_result[,1]-obs_F21)^2+(temp_result[,2]-obs_F32)^2+(temp_result[,3]-obs_F31)^2)\n",
    "    temp<-order(distance)[1:out]\n",
    "    # SHORTLIST\n",
    "    return(cbind(prior_r[temp], prior_d[temp], prior_a[temp], distance[temp]))\n",
    "}\n",
    "stopCluster(cl)\n",
    "dim(result)"
   ]
  },
  {
   "cell_type": "code",
   "execution_count": 14,
   "id": "71a56803",
   "metadata": {},
   "outputs": [],
   "source": [
    "# SAVE ABC RESULTS\n",
    "save(obs_F21, obs_F32, obs_F31, K, t1, t2, t3, result, file='ABC_ex5.RData')"
   ]
  },
  {
   "cell_type": "code",
   "execution_count": 18,
   "id": "72bb66a9",
   "metadata": {},
   "outputs": [],
   "source": [
    "load('ABC_ex5.RData')"
   ]
  },
  {
   "cell_type": "code",
   "execution_count": 19,
   "id": "9815bf31",
   "metadata": {},
   "outputs": [
    {
     "data": {
      "text/html": [
       "0.00138224977711015"
      ],
      "text/latex": [
       "0.00138224977711015"
      ],
      "text/markdown": [
       "0.00138224977711015"
      ],
      "text/plain": [
       "[1] 0.00138225"
      ]
     },
     "metadata": {},
     "output_type": "display_data"
    }
   ],
   "source": [
    "# THEN CALCULATE ANOTHER ROUND OF DISTANCE\n",
    "temp<-order(result[,4])[1:1000]\n",
    "posterior_r<-result[temp,1]\n",
    "posterior_d<-result[temp,2]\n",
    "posterior_a<-result[temp,3]\n",
    "max(result[temp,4])\n",
    "rm(temp)"
   ]
  },
  {
   "cell_type": "code",
   "execution_count": 20,
   "id": "549a0ed7",
   "metadata": {},
   "outputs": [
    {
     "data": {
      "image/png": "[encoded data removed]",
      "text/plain": [
       "Plot with title \"\""
      ]
     },
     "metadata": {},
     "output_type": "display_data"
    }
   ],
   "source": [
    "# PLOT POSTERIORS\n",
    "par(mfrow=c(2,2))\n",
    "hist(posterior_r, breaks=25, xlab=expression(italic(N['R'])), main='')\n",
    "hist(posterior_d, breaks=25, xlab=expression(italic(N['D'])), main='')\n",
    "hist(posterior_a, breaks=25, xlab=expression(italic(N['A'])), main='')\n",
    "hist(posterior_a/posterior_r, breaks=25, xlab=expression(italic(alpha)), main='')"
   ]
  },
  {
   "cell_type": "code",
   "execution_count": 21,
   "id": "f636cbdb",
   "metadata": {},
   "outputs": [
    {
     "data": {
      "text/html": [
       "<strong>png:</strong> 2"
      ],
      "text/latex": [
       "\\textbf{png:} 2"
      ],
      "text/markdown": [
       "**png:** 2"
      ],
      "text/plain": [
       "png \n",
       "  2 "
      ]
     },
     "metadata": {},
     "output_type": "display_data"
    }
   ],
   "source": [
    "# SAVE HIGH RES POSTERIOR PLOT\n",
    "png('fig5.png', height=2400, width=4800, res=300)\n",
    "par(mfrow=c(1,2), cex=1.5, cex.lab=1.2, cex.axis=1.2, mar=c(5,5,5,5), lwd=3)\n",
    "hist(posterior_a, breaks=20, xlab=expression(italic(N['A'])), main='')\n",
    "hist(posterior_a/posterior_r, breaks=20, xlab=expression(italic(alpha)), main='')\n",
    "dev.off()"
   ]
  },
  {
   "cell_type": "code",
   "execution_count": null,
   "id": "9750a2d9",
   "metadata": {},
   "outputs": [],
   "source": []
  },
  {
   "cell_type": "code",
   "execution_count": 17,
   "id": "30d4954f",
   "metadata": {},
   "outputs": [
    {
     "data": {
      "image/png": "[encoded data removed]",
      "text/plain": [
       "plot without title"
      ]
     },
     "metadata": {},
     "output_type": "display_data"
    }
   ],
   "source": [
    "plot(posterior_r, posterior_d)"
   ]
  },
  {
   "cell_type": "code",
   "execution_count": null,
   "id": "66504c33",
   "metadata": {},
   "outputs": [],
   "source": []
  }
 ],
 "metadata": {
  "kernelspec": {
   "display_name": "R-4.3.1",
   "language": "R",
   "name": "ir"
  },
  "language_info": {
   "codemirror_mode": "r",
   "file_extension": ".r",
   "mimetype": "text/x-r-source",
   "name": "R",
   "pygments_lexer": "r",
   "version": "4.3.1"
  }
 },
 "nbformat": 4,
 "nbformat_minor": 5
}
